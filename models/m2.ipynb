{
 "cells": [
  {
   "cell_type": "code",
   "execution_count": 252,
   "metadata": {
    "collapsed": true,
    "ExecuteTime": {
     "end_time": "2023-06-17T17:06:26.009797689Z",
     "start_time": "2023-06-17T17:06:26.006463034Z"
    }
   },
   "outputs": [],
   "source": [
    "import pandas as pd\n",
    "import numpy as np\n",
    "from scipy.stats import zipf"
   ]
  },
  {
   "cell_type": "code",
   "execution_count": 253,
   "outputs": [],
   "source": [
    "MODEL_FACTORS_BANDWIDTH = {\n",
    "    'RAM': 50,\n",
    "    'NVMe': 2,\n",
    "    'SSD': 0.5,\n",
    "    'HDD': 0.25,\n",
    "    'EBS': None,\n",
    "}\n",
    "\n",
    "# base workload\n",
    "CPU_H = 20\n",
    "TOTAL_READS = 800\n",
    "\n",
    "# caching\n",
    "CACHE_SKEW = 1.2\n",
    "FIRST_READ_FROM_S3 = True\n",
    "\n",
    "instances = pd.read_csv(\"../data/ec2-instances.info.csv\")"
   ],
   "metadata": {
    "collapsed": false,
    "ExecuteTime": {
     "end_time": "2023-06-17T17:06:27.018629372Z",
     "start_time": "2023-06-17T17:06:27.012335242Z"
    }
   }
  },
  {
   "cell_type": "code",
   "execution_count": 256,
   "outputs": [],
   "source": [
    "def calc_storage_speed(inst, network_speed):\n",
    "    bws = np.array([MODEL_FACTORS_BANDWIDTH[x] for x in inst['storage.type'].astype(str)]) * inst['id.slice.sto'] * inst['id.slice.factor']\n",
    "    bws[np.isnan(bws)] = network_speed[np.isnan(bws)]\n",
    "    return bws\n",
    "\n",
    "\n",
    "def distr_maker(shape, size):\n",
    "    if np.isnan(size):\n",
    "        return []\n",
    "    if size <= 1:\n",
    "        return [size]\n",
    "\n",
    "    distr = zipf.pmf(np.arange(1, size+1), shape)\n",
    "    normd = distr / np.sum(distr) * size\n",
    "    return normd.tolist()\n",
    "\n",
    "def model_distr_hsplit(distr, lim):\n",
    "    dist_low = np.minimum(distr, lim)\n",
    "    dist_high = np.maximum(distr - dist_low, 0)\n",
    "    return {'low': dist_low, 'high': dist_high}\n",
    "\n",
    "\n",
    "def model_distr_split_fn(distr, split_first_read):\n",
    "    if split_first_read:\n",
    "        split_dist = model_distr_hsplit(distr, 1)\n",
    "    else:\n",
    "        split_dist = [np.zeros(len(distr)), distr]\n",
    "    return {\"initial\": split_dist['low'], \"working\": split_dist['high']}\n",
    "\n",
    "def calc_inst_speeds(inst):\n",
    "    # TODO: change column names when working on clean data\n",
    "    inst['calc_net_speed'] = inst['network_performance.value.Gib'] / 8\n",
    "    inst['calc_mem_speed']= MODEL_FACTORS_BANDWIDTH['RAM']\n",
    "    inst['calc_cpu_real']= inst['vcpu.value.count'] / 2\n",
    "    inst['calc_mem_caching']= inst['memory.value.gib'] / 2\n",
    "    inst['calc_sto_caching']= inst['storage.sum.gib'] / 2\n",
    "    inst['calc_sto_speed']= MODEL_FACTORS_BANDWIDTH['SSD']\n",
    "    inst['calc_s3_speed'] = inst['calc_net_speed'] * 0.8\n",
    "\n",
    "\n",
    "def calc_groups(sizes, distr_len):\n",
    "    if len(sizes) == 1:\n",
    "        return [sizes.index[0]] * min(sizes[0], distr_len)\n",
    "    elif sizes[0] > distr_len:\n",
    "        return []\n",
    "    else:\n",
    "        return [sizes.index[1]] * (min(sizes[1], distr_len) - sizes[0])\n",
    "\n",
    "\n",
    "def distr_pack_helper(bins, distr):\n",
    "    distr_len = len(distr)\n",
    "    bins = bins.sort_values(by='prio', ascending=False)\n",
    "    bins['acc_size'] = bins['size'].cumsum().astype('int32')\n",
    "    size_windows = bins['acc_size'].rolling(window=2)\n",
    "    res = []\n",
    "    for size_window in size_windows:\n",
    "        res.extend(calc_groups(size_window, distr_len))\n",
    "\n",
    "    result = pd.DataFrame(data={\n",
    "        'distr_val': distr,\n",
    "        'group': res\n",
    "    }).groupby('group').sum().transpose()\n",
    "\n",
    "    return result.reset_index()\n",
    "\n",
    "\n",
    "def model_distr_pack(bins, distr):\n",
    "    n = len(bins['data_mem']['prio'])\n",
    "    res = pd.DataFrame()\n",
    "    for i in range(n):\n",
    "        next_ = distr_pack_helper(\n",
    "            bins=pd.DataFrame(\n",
    "                data={\n",
    "                    'prio': [bins['data_mem']['prio'][i], bins['data_sto']['prio'][i], bins['data_s3']['prio'][i]],\n",
    "                    'size': [bins['data_mem']['size'][i], bins['data_sto']['size'][i], bins['data_s3']['size'][i]],\n",
    "                },\n",
    "                index=['data_mem', 'data_sto', 'data_s3']\n",
    "            ),\n",
    "            distr=distr\n",
    "        )\n",
    "        res = pd.concat([res, next_], ignore_index=True).fillna(0)\n",
    "\n",
    "\n",
    "    return res #.drop('group', axis=1)\n",
    "\n",
    "\n",
    "\n",
    "\n",
    "def calc_time_for_config(inst, distr_cache):\n",
    "    data_mem = pd.DataFrame(data = {'size': instances['calc_mem_caching'].round(decimals=0), 'prio': instances['calc_mem_speed']})\n",
    "    data_sto = pd.DataFrame(data =  {'size': instances['calc_sto_caching'].round(decimals=0), 'prio': instances['calc_sto_speed'].tolist()})\n",
    "    data_s3 = pd.DataFrame(data={'size': [len(distr_cache['working'])] * len(instances), 'prio': instances['calc_net_speed'].tolist()})\n",
    "\n",
    "    bins_cache = {\n",
    "        'data_mem': data_mem,\n",
    "        'data_sto': data_sto,\n",
    "        'data_s3': data_s3\n",
    "    }\n",
    "\n",
    "    mem_read_distribution = model_distr_pack(bins_cache, distr_cache['working'])\n",
    "    print(mem_read_distribution.dtypes)\n",
    "    print(len(mem_read_distribution))\n",
    "    cpu_time = CPU_H / instances['vcpu.value.count']\n",
    "    inst['data_mem'] = mem_read_distribution['data_mem']\n",
    "    inst['data_sto'] = mem_read_distribution['data_sto']\n",
    "    inst['data_s3'] = mem_read_distribution['data_s3']\n",
    "\n",
    "    scan_time = mem_read_distribution['data_mem'] / inst['calc_mem_speed'] +  mem_read_distribution['data_sto'] / inst['calc_sto_speed'] + mem_read_distribution['data_s3'] / inst['calc_net_speed']\n",
    "    inst['execution_time_m2'] = cpu_time + scan_time\n",
    "\n"
   ],
   "metadata": {
    "collapsed": false,
    "ExecuteTime": {
     "end_time": "2023-06-17T17:06:48.059924543Z",
     "start_time": "2023-06-17T17:06:48.017226699Z"
    }
   }
  },
  {
   "cell_type": "code",
   "execution_count": 258,
   "outputs": [
    {
     "name": "stdout",
     "output_type": "stream",
     "text": [
      "group\n",
      "index        object\n",
      "data_mem    float64\n",
      "data_s3     float64\n",
      "data_sto    float64\n",
      "dtype: object\n",
      "257\n"
     ]
    },
    {
     "data": {
      "text/plain": "                     longname           id memory.text  memory.value.gib  \\\n0             Z1D Extra Large   z1d.xlarge    32.0 GiB              32.0   \n1                   Z1D Metal    z1d.metal   384.0 GiB             384.0   \n2                   Z1D Large    z1d.large    16.0 GiB              16.0   \n3                 Z1D 6xlarge  z1d.6xlarge   192.0 GiB             192.0   \n4                 Z1D 3xlarge  z1d.3xlarge    96.0 GiB              96.0   \n..                        ...          ...         ...               ...   \n252                  A1 Metal     a1.metal    32.0 GiB              32.0   \n253                 A1 Medium    a1.medium     2.0 GiB               2.0   \n254                  A1 Large     a1.large     4.0 GiB               4.0   \n255  A1 Quadruple Extra Large   a1.4xlarge    32.0 GiB              32.0   \n256     A1 Double Extra Large   a1.2xlarge    16.0 GiB              16.0   \n\n    vcpu.text  vcpu.value.count             processorName clockSpeed.text  \\\n0     4 vCPUs                 4  Intel Xeon Platinum 8151           4 GHz   \n1    48 vCPUs                48  Intel Xeon Platinum 8151           4 GHz   \n2     2 vCPUs                 2  Intel Xeon Platinum 8151           4 GHz   \n3    24 vCPUs                24  Intel Xeon Platinum 8151           4 GHz   \n4    12 vCPUs                12  Intel Xeon Platinum 8151           4 GHz   \n..        ...               ...                       ...             ...   \n252  16 vCPUs                16    AWS Graviton Processor         2.3 GHz   \n253   1 vCPUs                 1    AWS Graviton Processor         2.3 GHz   \n254   2 vCPUs                 2    AWS Graviton Processor         2.3 GHz   \n255  16 vCPUs                16    AWS Graviton Processor         2.3 GHz   \n256   8 vCPUs                 8    AWS Graviton Processor         2.3 GHz   \n\n     clockSpeed.value.ghz                                   storage.text  ...  \\\n0                     4.0                 150 GiB               NVMe SSD  ...   \n1                     4.0  1800 GiB               (2 * 900 GiB NVMe SSD)  ...   \n2                     4.0                  75 GiB               NVMe SSD  ...   \n3                     4.0                 900 GiB               NVMe SSD  ...   \n4                     4.0                 450 GiB               NVMe SSD  ...   \n..                    ...                                            ...  ...   \n252                   2.3                                       EBS only  ...   \n253                   2.3                                       EBS only  ...   \n254                   2.3                                       EBS only  ...   \n255                   2.3                                       EBS only  ...   \n256                   2.3                                       EBS only  ...   \n\n     calc_mem_speed  calc_cpu_real calc_mem_caching calc_sto_caching  \\\n0                50            2.0             16.0             75.0   \n1                50           24.0            192.0            900.0   \n2                50            1.0              8.0             37.5   \n3                50           12.0             96.0            450.0   \n4                50            6.0             48.0            225.0   \n..              ...            ...              ...              ...   \n252              50            8.0             16.0              0.0   \n253              50            0.5              1.0              0.0   \n254              50            1.0              2.0              0.0   \n255              50            8.0             16.0              0.0   \n256              50            4.0              8.0              0.0   \n\n     calc_sto_speed  calc_s3_speed    data_mem data_sto     data_s3  \\\n0               0.5            1.0  495.875061      0.0   80.994223   \n1               0.5            2.5  576.869284      0.0    0.000000   \n2               0.5            1.0  428.232839      0.0  148.636445   \n3               0.5            1.0  576.869284      0.0    0.000000   \n4               0.5            1.0  567.376163      0.0    9.493122   \n..              ...            ...         ...      ...         ...   \n252             0.5            1.0  495.875061      0.0   80.994223   \n253             0.5            1.0  185.982177      0.0  390.887107   \n254             0.5            1.0  266.370896      0.0  310.498388   \n255             0.5            1.0  495.875061      0.0   80.994223   \n256             0.5            1.0  428.232839      0.0  148.636445   \n\n    execution_time_m2  \n0           79.712880  \n1           11.954052  \n2          137.473813  \n3           12.370719  \n4           20.608687  \n..                ...  \n252         75.962880  \n253        336.429329  \n254        263.726128  \n255         75.962880  \n256        129.973813  \n\n[257 rows x 34 columns]",
      "text/html": "<div>\n<style scoped>\n    .dataframe tbody tr th:only-of-type {\n        vertical-align: middle;\n    }\n\n    .dataframe tbody tr th {\n        vertical-align: top;\n    }\n\n    .dataframe thead th {\n        text-align: right;\n    }\n</style>\n<table border=\"1\" class=\"dataframe\">\n  <thead>\n    <tr style=\"text-align: right;\">\n      <th></th>\n      <th>longname</th>\n      <th>id</th>\n      <th>memory.text</th>\n      <th>memory.value.gib</th>\n      <th>vcpu.text</th>\n      <th>vcpu.value.count</th>\n      <th>processorName</th>\n      <th>clockSpeed.text</th>\n      <th>clockSpeed.value.ghz</th>\n      <th>storage.text</th>\n      <th>...</th>\n      <th>calc_mem_speed</th>\n      <th>calc_cpu_real</th>\n      <th>calc_mem_caching</th>\n      <th>calc_sto_caching</th>\n      <th>calc_sto_speed</th>\n      <th>calc_s3_speed</th>\n      <th>data_mem</th>\n      <th>data_sto</th>\n      <th>data_s3</th>\n      <th>execution_time_m2</th>\n    </tr>\n  </thead>\n  <tbody>\n    <tr>\n      <th>0</th>\n      <td>Z1D Extra Large</td>\n      <td>z1d.xlarge</td>\n      <td>32.0 GiB</td>\n      <td>32.0</td>\n      <td>4 vCPUs</td>\n      <td>4</td>\n      <td>Intel Xeon Platinum 8151</td>\n      <td>4 GHz</td>\n      <td>4.0</td>\n      <td>150 GiB               NVMe SSD</td>\n      <td>...</td>\n      <td>50</td>\n      <td>2.0</td>\n      <td>16.0</td>\n      <td>75.0</td>\n      <td>0.5</td>\n      <td>1.0</td>\n      <td>495.875061</td>\n      <td>0.0</td>\n      <td>80.994223</td>\n      <td>79.712880</td>\n    </tr>\n    <tr>\n      <th>1</th>\n      <td>Z1D Metal</td>\n      <td>z1d.metal</td>\n      <td>384.0 GiB</td>\n      <td>384.0</td>\n      <td>48 vCPUs</td>\n      <td>48</td>\n      <td>Intel Xeon Platinum 8151</td>\n      <td>4 GHz</td>\n      <td>4.0</td>\n      <td>1800 GiB               (2 * 900 GiB NVMe SSD)</td>\n      <td>...</td>\n      <td>50</td>\n      <td>24.0</td>\n      <td>192.0</td>\n      <td>900.0</td>\n      <td>0.5</td>\n      <td>2.5</td>\n      <td>576.869284</td>\n      <td>0.0</td>\n      <td>0.000000</td>\n      <td>11.954052</td>\n    </tr>\n    <tr>\n      <th>2</th>\n      <td>Z1D Large</td>\n      <td>z1d.large</td>\n      <td>16.0 GiB</td>\n      <td>16.0</td>\n      <td>2 vCPUs</td>\n      <td>2</td>\n      <td>Intel Xeon Platinum 8151</td>\n      <td>4 GHz</td>\n      <td>4.0</td>\n      <td>75 GiB               NVMe SSD</td>\n      <td>...</td>\n      <td>50</td>\n      <td>1.0</td>\n      <td>8.0</td>\n      <td>37.5</td>\n      <td>0.5</td>\n      <td>1.0</td>\n      <td>428.232839</td>\n      <td>0.0</td>\n      <td>148.636445</td>\n      <td>137.473813</td>\n    </tr>\n    <tr>\n      <th>3</th>\n      <td>Z1D 6xlarge</td>\n      <td>z1d.6xlarge</td>\n      <td>192.0 GiB</td>\n      <td>192.0</td>\n      <td>24 vCPUs</td>\n      <td>24</td>\n      <td>Intel Xeon Platinum 8151</td>\n      <td>4 GHz</td>\n      <td>4.0</td>\n      <td>900 GiB               NVMe SSD</td>\n      <td>...</td>\n      <td>50</td>\n      <td>12.0</td>\n      <td>96.0</td>\n      <td>450.0</td>\n      <td>0.5</td>\n      <td>1.0</td>\n      <td>576.869284</td>\n      <td>0.0</td>\n      <td>0.000000</td>\n      <td>12.370719</td>\n    </tr>\n    <tr>\n      <th>4</th>\n      <td>Z1D 3xlarge</td>\n      <td>z1d.3xlarge</td>\n      <td>96.0 GiB</td>\n      <td>96.0</td>\n      <td>12 vCPUs</td>\n      <td>12</td>\n      <td>Intel Xeon Platinum 8151</td>\n      <td>4 GHz</td>\n      <td>4.0</td>\n      <td>450 GiB               NVMe SSD</td>\n      <td>...</td>\n      <td>50</td>\n      <td>6.0</td>\n      <td>48.0</td>\n      <td>225.0</td>\n      <td>0.5</td>\n      <td>1.0</td>\n      <td>567.376163</td>\n      <td>0.0</td>\n      <td>9.493122</td>\n      <td>20.608687</td>\n    </tr>\n    <tr>\n      <th>...</th>\n      <td>...</td>\n      <td>...</td>\n      <td>...</td>\n      <td>...</td>\n      <td>...</td>\n      <td>...</td>\n      <td>...</td>\n      <td>...</td>\n      <td>...</td>\n      <td>...</td>\n      <td>...</td>\n      <td>...</td>\n      <td>...</td>\n      <td>...</td>\n      <td>...</td>\n      <td>...</td>\n      <td>...</td>\n      <td>...</td>\n      <td>...</td>\n      <td>...</td>\n      <td>...</td>\n    </tr>\n    <tr>\n      <th>252</th>\n      <td>A1 Metal</td>\n      <td>a1.metal</td>\n      <td>32.0 GiB</td>\n      <td>32.0</td>\n      <td>16 vCPUs</td>\n      <td>16</td>\n      <td>AWS Graviton Processor</td>\n      <td>2.3 GHz</td>\n      <td>2.3</td>\n      <td>EBS only</td>\n      <td>...</td>\n      <td>50</td>\n      <td>8.0</td>\n      <td>16.0</td>\n      <td>0.0</td>\n      <td>0.5</td>\n      <td>1.0</td>\n      <td>495.875061</td>\n      <td>0.0</td>\n      <td>80.994223</td>\n      <td>75.962880</td>\n    </tr>\n    <tr>\n      <th>253</th>\n      <td>A1 Medium</td>\n      <td>a1.medium</td>\n      <td>2.0 GiB</td>\n      <td>2.0</td>\n      <td>1 vCPUs</td>\n      <td>1</td>\n      <td>AWS Graviton Processor</td>\n      <td>2.3 GHz</td>\n      <td>2.3</td>\n      <td>EBS only</td>\n      <td>...</td>\n      <td>50</td>\n      <td>0.5</td>\n      <td>1.0</td>\n      <td>0.0</td>\n      <td>0.5</td>\n      <td>1.0</td>\n      <td>185.982177</td>\n      <td>0.0</td>\n      <td>390.887107</td>\n      <td>336.429329</td>\n    </tr>\n    <tr>\n      <th>254</th>\n      <td>A1 Large</td>\n      <td>a1.large</td>\n      <td>4.0 GiB</td>\n      <td>4.0</td>\n      <td>2 vCPUs</td>\n      <td>2</td>\n      <td>AWS Graviton Processor</td>\n      <td>2.3 GHz</td>\n      <td>2.3</td>\n      <td>EBS only</td>\n      <td>...</td>\n      <td>50</td>\n      <td>1.0</td>\n      <td>2.0</td>\n      <td>0.0</td>\n      <td>0.5</td>\n      <td>1.0</td>\n      <td>266.370896</td>\n      <td>0.0</td>\n      <td>310.498388</td>\n      <td>263.726128</td>\n    </tr>\n    <tr>\n      <th>255</th>\n      <td>A1 Quadruple Extra Large</td>\n      <td>a1.4xlarge</td>\n      <td>32.0 GiB</td>\n      <td>32.0</td>\n      <td>16 vCPUs</td>\n      <td>16</td>\n      <td>AWS Graviton Processor</td>\n      <td>2.3 GHz</td>\n      <td>2.3</td>\n      <td>EBS only</td>\n      <td>...</td>\n      <td>50</td>\n      <td>8.0</td>\n      <td>16.0</td>\n      <td>0.0</td>\n      <td>0.5</td>\n      <td>1.0</td>\n      <td>495.875061</td>\n      <td>0.0</td>\n      <td>80.994223</td>\n      <td>75.962880</td>\n    </tr>\n    <tr>\n      <th>256</th>\n      <td>A1 Double Extra Large</td>\n      <td>a1.2xlarge</td>\n      <td>16.0 GiB</td>\n      <td>16.0</td>\n      <td>8 vCPUs</td>\n      <td>8</td>\n      <td>AWS Graviton Processor</td>\n      <td>2.3 GHz</td>\n      <td>2.3</td>\n      <td>EBS only</td>\n      <td>...</td>\n      <td>50</td>\n      <td>4.0</td>\n      <td>8.0</td>\n      <td>0.0</td>\n      <td>0.5</td>\n      <td>1.0</td>\n      <td>428.232839</td>\n      <td>0.0</td>\n      <td>148.636445</td>\n      <td>129.973813</td>\n    </tr>\n  </tbody>\n</table>\n<p>257 rows × 34 columns</p>\n</div>"
     },
     "execution_count": 258,
     "metadata": {},
     "output_type": "execute_result"
    }
   ],
   "source": [
    "distr_caching_precomputed = distr_maker(shape=CACHE_SKEW, size=TOTAL_READS)\n",
    "distr_cache = model_distr_split_fn(distr_caching_precomputed, FIRST_READ_FROM_S3)\n",
    "calc_inst_speeds(instances)\n",
    "calc_time_for_config(instances, distr_cache)\n",
    "\n",
    "instances"
   ],
   "metadata": {
    "collapsed": false,
    "ExecuteTime": {
     "end_time": "2023-06-17T17:07:01.243881289Z",
     "start_time": "2023-06-17T17:07:00.648137533Z"
    }
   }
  }
 ],
 "metadata": {
  "kernelspec": {
   "display_name": "Python 3",
   "language": "python",
   "name": "python3"
  },
  "language_info": {
   "codemirror_mode": {
    "name": "ipython",
    "version": 2
   },
   "file_extension": ".py",
   "mimetype": "text/x-python",
   "name": "python",
   "nbconvert_exporter": "python",
   "pygments_lexer": "ipython2",
   "version": "2.7.6"
  }
 },
 "nbformat": 4,
 "nbformat_minor": 0
}
