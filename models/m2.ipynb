{
 "cells": [
  {
   "cell_type": "code",
   "execution_count": 198,
   "metadata": {
    "collapsed": true,
    "ExecuteTime": {
     "end_time": "2023-06-17T15:03:45.590521600Z",
     "start_time": "2023-06-17T15:03:45.546224373Z"
    }
   },
   "outputs": [],
   "source": [
    "import pandas as pd\n",
    "import numpy as np\n",
    "from scipy.stats import zipf"
   ]
  },
  {
   "cell_type": "code",
   "execution_count": 199,
   "outputs": [],
   "source": [
    "MODEL_FACTORS_BANDWIDTH = {\n",
    "    'RAM': 50,\n",
    "    'NVMe': 2,\n",
    "    'SSD': 0.5,\n",
    "    'HDD': 0.25,\n",
    "    'EBS': None,\n",
    "}\n",
    "\n",
    "# base workload\n",
    "CPU_H = 20\n",
    "TOTAL_READS = 800\n",
    "\n",
    "# caching\n",
    "CACHE_SKEW = 1.2\n",
    "FIRST_READ_FROM_S3 = True\n",
    "\n",
    "instances = pd.read_csv(\"../data/ec2-instances.info.csv\")"
   ],
   "metadata": {
    "collapsed": false,
    "ExecuteTime": {
     "end_time": "2023-06-17T15:03:46.719890891Z",
     "start_time": "2023-06-17T15:03:46.711820869Z"
    }
   }
  },
  {
   "cell_type": "code",
   "execution_count": 201,
   "outputs": [],
   "source": [
    "def calc_storage_speed(inst, network_speed):\n",
    "    bws = np.array([MODEL_FACTORS_BANDWIDTH[x] for x in inst['storage.type'].astype(str)]) * inst['id.slice.sto'] * inst['id.slice.factor']\n",
    "    bws[np.isnan(bws)] = network_speed[np.isnan(bws)]\n",
    "    return bws\n",
    "\n",
    "\n",
    "def distr_maker(shape, size):\n",
    "    if np.isnan(size):\n",
    "        return []\n",
    "    if size <= 1:\n",
    "        return [size]\n",
    "\n",
    "    distr = zipf.pmf(np.arange(1, size+1), shape)\n",
    "    normd = distr / np.sum(distr) * size\n",
    "    return normd.tolist()\n",
    "\n",
    "def model_distr_hsplit(distr, lim):\n",
    "    dist_low = np.minimum(distr, lim)\n",
    "    dist_high = np.maximum(distr - dist_low, 0)\n",
    "    return {'low': dist_low, 'high': dist_high}\n",
    "\n",
    "\n",
    "def model_distr_split_fn(distr, split_first_read):\n",
    "    if split_first_read:\n",
    "        split_dist = model_distr_hsplit(distr, 1)\n",
    "    else:\n",
    "        split_dist = [np.zeros(len(distr)), distr]\n",
    "    return {\"initial\": split_dist['low'], \"working\": split_dist['high']}\n",
    "\n",
    "def calc_inst_speeds(inst):\n",
    "    # TODO: change column names when working on clean data\n",
    "    inst['calc_net_speed'] = inst['network_performance.value.Gib'] / 8\n",
    "    inst['calc_mem_speed']= MODEL_FACTORS_BANDWIDTH['RAM']\n",
    "    inst['calc_cpu_real']= inst['vcpu.value.count'] / 2\n",
    "    inst['calc_mem_caching']= inst['memory.value.gib'] / 2\n",
    "    inst['calc_sto_caching']= inst['storage.sum.gib'] / 2\n",
    "    inst['calc_sto_speed']= MODEL_FACTORS_BANDWIDTH['SSD']\n",
    "    inst['calc_s3_speed'] = inst['calc_net_speed'] * 0.8\n",
    "\n",
    "\n",
    "def calc_groups(sizes, distr_len):\n",
    "    if len(sizes) == 1:\n",
    "        return [sizes.index[0]] * min(sizes[0], distr_len)\n",
    "    elif sizes[0] > distr_len:\n",
    "        return []\n",
    "    else:\n",
    "        return [sizes.index[1]] * (min(sizes[1], distr_len) - sizes[0])\n",
    "\n",
    "\n",
    "def distr_pack_helper(bins, distr):\n",
    "    distr_len = len(distr)\n",
    "    bins = bins.sort_values(by='prio', ascending=False)\n",
    "    bins['acc_size'] = bins['size'].cumsum().astype('int32')\n",
    "    size_windows = bins['acc_size'].rolling(window=2)\n",
    "    res = []\n",
    "    for size_window in size_windows:\n",
    "        res.extend(calc_groups(size_window, distr_len))\n",
    "\n",
    "    return pd.DataFrame(data={\n",
    "        'distr_val': distr,\n",
    "        'group': res\n",
    "    }).groupby('group').sum()\n",
    "\n",
    "\n",
    "def model_distr_pack(bins, distr):\n",
    "    n = len(bins['data_mem']['prio'])\n",
    "    res = pd.DataFrame()\n",
    "    for i in range(n):\n",
    "        next_ = distr_pack_helper(\n",
    "            bins=pd.DataFrame(\n",
    "                data={\n",
    "                    'prio': [bins['data_mem']['prio'][i], bins['data_sto']['prio'][i], bins['data_s3']['prio'][i]],\n",
    "                    'size': [bins['data_mem']['size'][i], bins['data_sto']['size'][i], bins['data_s3']['size'][i]],\n",
    "                },\n",
    "                index=['data_mem', 'data_sto', 'data_s3']\n",
    "            ),\n",
    "            distr=distr\n",
    "        )\n",
    "\n",
    "        res = pd.concat([res, next_])\n",
    "\n",
    "    return res.groupby('group').sum().transpose() #.drop('group', axis=1)\n",
    "\n",
    "\n",
    "\n",
    "\n",
    "def calc_time_for_config(inst, distr_cache):\n",
    "    data_mem = pd.DataFrame(data = {'size': instances['calc_mem_caching'].round(decimals=0), 'prio': instances['calc_mem_speed']})\n",
    "    data_sto = pd.DataFrame(data =  {'size': instances['calc_sto_caching'].round(decimals=0), 'prio': instances['calc_sto_speed'].tolist()})\n",
    "    data_s3 = pd.DataFrame(data={'size': [len(distr_cache['working'])] * len(instances), 'prio': instances['calc_net_speed'].tolist()})\n",
    "\n",
    "    bins_cache = {\n",
    "        'data_mem': data_mem,\n",
    "        'data_sto': data_sto,\n",
    "        'data_s3': data_s3\n",
    "    }\n",
    "\n",
    "    mem_read_distribution = model_distr_pack(bins_cache, distr_cache['working'])\n",
    "    cpu_time = CPU_H / instances['vcpu.value.count']\n",
    "    scan_time = mem_read_distribution['data_mem'].iloc[0] / inst['calc_mem_speed'] +  mem_read_distribution['data_sto'].iloc[0] / inst['calc_sto_speed'] + mem_read_distribution['data_s3'].iloc[0] / inst['calc_s3_speed']\n",
    "    inst['execution_time_m2'] = cpu_time + scan_time\n",
    "\n"
   ],
   "metadata": {
    "collapsed": false,
    "ExecuteTime": {
     "end_time": "2023-06-17T15:04:39.287185516Z",
     "start_time": "2023-06-17T15:04:39.247858974Z"
    }
   }
  },
  {
   "cell_type": "code",
   "execution_count": 203,
   "outputs": [
    {
     "data": {
      "text/plain": "                    longname            id memory.text  memory.value.gib  \\\n0            Z1D Extra Large    z1d.xlarge    32.0 GiB              32.0   \n1                  Z1D Metal     z1d.metal   384.0 GiB             384.0   \n2                  Z1D Large     z1d.large    16.0 GiB              16.0   \n3                Z1D 6xlarge   z1d.6xlarge   192.0 GiB             192.0   \n4                Z1D 3xlarge   z1d.3xlarge    96.0 GiB              96.0   \n5     Z1D Double Extra Large   z1d.2xlarge    64.0 GiB              64.0   \n6               Z1D 12xlarge  z1d.12xlarge   384.0 GiB             384.0   \n7            X1E Extra Large    x1e.xlarge   122.0 GiB             122.0   \n8      X1E Eight Extra Large   x1e.8xlarge   976.0 GiB             976.0   \n9  X1E Quadruple Extra Large   x1e.4xlarge   488.0 GiB             488.0   \n\n  vcpu.text  vcpu.value.count                                   processorName  \\\n0   4 vCPUs                 4                        Intel Xeon Platinum 8151   \n1  48 vCPUs                48                        Intel Xeon Platinum 8151   \n2   2 vCPUs                 2                        Intel Xeon Platinum 8151   \n3  24 vCPUs                24                        Intel Xeon Platinum 8151   \n4  12 vCPUs                12                        Intel Xeon Platinum 8151   \n5   8 vCPUs                 8                        Intel Xeon Platinum 8151   \n6  48 vCPUs                48                        Intel Xeon Platinum 8151   \n7   4 vCPUs                 4  High Frequency Intel Xeon E7-8880 v3 (Haswell)   \n8  32 vCPUs                32  High Frequency Intel Xeon E7-8880 v3 (Haswell)   \n9  16 vCPUs                16  High Frequency Intel Xeon E7-8880 v3 (Haswell)   \n\n  clockSpeed.text  clockSpeed.value.ghz  \\\n0           4 GHz                   4.0   \n1           4 GHz                   4.0   \n2           4 GHz                   4.0   \n3           4 GHz                   4.0   \n4           4 GHz                   4.0   \n5           4 GHz                   4.0   \n6           4 GHz                   4.0   \n7         2.3 GHz                   2.3   \n8         2.3 GHz                   2.3   \n9         2.3 GHz                   2.3   \n\n                                    storage.text  ...   region.name  \\\n0                 150 GiB               NVMe SSD  ...  eu-central-1   \n1  1800 GiB               (2 * 900 GiB NVMe SSD)  ...  eu-central-1   \n2                  75 GiB               NVMe SSD  ...  eu-central-1   \n3                 900 GiB               NVMe SSD  ...  eu-central-1   \n4                 450 GiB               NVMe SSD  ...  eu-central-1   \n5                 300 GiB               NVMe SSD  ...  eu-central-1   \n6  1800 GiB               (2 * 900 GiB NVMe SSD)  ...  eu-central-1   \n7                      120 GiB               SSD  ...  eu-central-1   \n8                      960 GiB               SSD  ...  eu-central-1   \n9                      480 GiB               SSD  ...  eu-central-1   \n\n   join.entry calc_net_speed calc_mem_speed  calc_cpu_real  calc_mem_caching  \\\n0         101          1.250             50            2.0              16.0   \n1         101          3.125             50           24.0             192.0   \n2         101          1.250             50            1.0               8.0   \n3         101          1.250             50           12.0              96.0   \n4         101          1.250             50            6.0              48.0   \n5         101          1.250             50            4.0              32.0   \n6         101          3.125             50           24.0             192.0   \n7         101          1.250             50            2.0              61.0   \n8         101          1.250             50           16.0             488.0   \n9         101          1.250             50            8.0             244.0   \n\n  calc_sto_caching calc_sto_speed  calc_s3_speed execution_time_m2  \n0             75.0            0.5            1.0      23285.647437  \n1            900.0            0.5            2.5      15353.421210  \n2             37.5            0.5            1.0      23290.647437  \n3            450.0            0.5            1.0      23281.480770  \n4            225.0            0.5            1.0      23282.314103  \n5            150.0            0.5            1.0      23283.147437  \n6            900.0            0.5            2.5      15353.421210  \n7             60.0            0.5            1.0      23285.647437  \n8            480.0            0.5            1.0      23281.272437  \n9            240.0            0.5            1.0      23281.897437  \n\n[10 rows x 31 columns]",
      "text/html": "<div>\n<style scoped>\n    .dataframe tbody tr th:only-of-type {\n        vertical-align: middle;\n    }\n\n    .dataframe tbody tr th {\n        vertical-align: top;\n    }\n\n    .dataframe thead th {\n        text-align: right;\n    }\n</style>\n<table border=\"1\" class=\"dataframe\">\n  <thead>\n    <tr style=\"text-align: right;\">\n      <th></th>\n      <th>longname</th>\n      <th>id</th>\n      <th>memory.text</th>\n      <th>memory.value.gib</th>\n      <th>vcpu.text</th>\n      <th>vcpu.value.count</th>\n      <th>processorName</th>\n      <th>clockSpeed.text</th>\n      <th>clockSpeed.value.ghz</th>\n      <th>storage.text</th>\n      <th>...</th>\n      <th>region.name</th>\n      <th>join.entry</th>\n      <th>calc_net_speed</th>\n      <th>calc_mem_speed</th>\n      <th>calc_cpu_real</th>\n      <th>calc_mem_caching</th>\n      <th>calc_sto_caching</th>\n      <th>calc_sto_speed</th>\n      <th>calc_s3_speed</th>\n      <th>execution_time_m2</th>\n    </tr>\n  </thead>\n  <tbody>\n    <tr>\n      <th>0</th>\n      <td>Z1D Extra Large</td>\n      <td>z1d.xlarge</td>\n      <td>32.0 GiB</td>\n      <td>32.0</td>\n      <td>4 vCPUs</td>\n      <td>4</td>\n      <td>Intel Xeon Platinum 8151</td>\n      <td>4 GHz</td>\n      <td>4.0</td>\n      <td>150 GiB               NVMe SSD</td>\n      <td>...</td>\n      <td>eu-central-1</td>\n      <td>101</td>\n      <td>1.250</td>\n      <td>50</td>\n      <td>2.0</td>\n      <td>16.0</td>\n      <td>75.0</td>\n      <td>0.5</td>\n      <td>1.0</td>\n      <td>23285.647437</td>\n    </tr>\n    <tr>\n      <th>1</th>\n      <td>Z1D Metal</td>\n      <td>z1d.metal</td>\n      <td>384.0 GiB</td>\n      <td>384.0</td>\n      <td>48 vCPUs</td>\n      <td>48</td>\n      <td>Intel Xeon Platinum 8151</td>\n      <td>4 GHz</td>\n      <td>4.0</td>\n      <td>1800 GiB               (2 * 900 GiB NVMe SSD)</td>\n      <td>...</td>\n      <td>eu-central-1</td>\n      <td>101</td>\n      <td>3.125</td>\n      <td>50</td>\n      <td>24.0</td>\n      <td>192.0</td>\n      <td>900.0</td>\n      <td>0.5</td>\n      <td>2.5</td>\n      <td>15353.421210</td>\n    </tr>\n    <tr>\n      <th>2</th>\n      <td>Z1D Large</td>\n      <td>z1d.large</td>\n      <td>16.0 GiB</td>\n      <td>16.0</td>\n      <td>2 vCPUs</td>\n      <td>2</td>\n      <td>Intel Xeon Platinum 8151</td>\n      <td>4 GHz</td>\n      <td>4.0</td>\n      <td>75 GiB               NVMe SSD</td>\n      <td>...</td>\n      <td>eu-central-1</td>\n      <td>101</td>\n      <td>1.250</td>\n      <td>50</td>\n      <td>1.0</td>\n      <td>8.0</td>\n      <td>37.5</td>\n      <td>0.5</td>\n      <td>1.0</td>\n      <td>23290.647437</td>\n    </tr>\n    <tr>\n      <th>3</th>\n      <td>Z1D 6xlarge</td>\n      <td>z1d.6xlarge</td>\n      <td>192.0 GiB</td>\n      <td>192.0</td>\n      <td>24 vCPUs</td>\n      <td>24</td>\n      <td>Intel Xeon Platinum 8151</td>\n      <td>4 GHz</td>\n      <td>4.0</td>\n      <td>900 GiB               NVMe SSD</td>\n      <td>...</td>\n      <td>eu-central-1</td>\n      <td>101</td>\n      <td>1.250</td>\n      <td>50</td>\n      <td>12.0</td>\n      <td>96.0</td>\n      <td>450.0</td>\n      <td>0.5</td>\n      <td>1.0</td>\n      <td>23281.480770</td>\n    </tr>\n    <tr>\n      <th>4</th>\n      <td>Z1D 3xlarge</td>\n      <td>z1d.3xlarge</td>\n      <td>96.0 GiB</td>\n      <td>96.0</td>\n      <td>12 vCPUs</td>\n      <td>12</td>\n      <td>Intel Xeon Platinum 8151</td>\n      <td>4 GHz</td>\n      <td>4.0</td>\n      <td>450 GiB               NVMe SSD</td>\n      <td>...</td>\n      <td>eu-central-1</td>\n      <td>101</td>\n      <td>1.250</td>\n      <td>50</td>\n      <td>6.0</td>\n      <td>48.0</td>\n      <td>225.0</td>\n      <td>0.5</td>\n      <td>1.0</td>\n      <td>23282.314103</td>\n    </tr>\n    <tr>\n      <th>5</th>\n      <td>Z1D Double Extra Large</td>\n      <td>z1d.2xlarge</td>\n      <td>64.0 GiB</td>\n      <td>64.0</td>\n      <td>8 vCPUs</td>\n      <td>8</td>\n      <td>Intel Xeon Platinum 8151</td>\n      <td>4 GHz</td>\n      <td>4.0</td>\n      <td>300 GiB               NVMe SSD</td>\n      <td>...</td>\n      <td>eu-central-1</td>\n      <td>101</td>\n      <td>1.250</td>\n      <td>50</td>\n      <td>4.0</td>\n      <td>32.0</td>\n      <td>150.0</td>\n      <td>0.5</td>\n      <td>1.0</td>\n      <td>23283.147437</td>\n    </tr>\n    <tr>\n      <th>6</th>\n      <td>Z1D 12xlarge</td>\n      <td>z1d.12xlarge</td>\n      <td>384.0 GiB</td>\n      <td>384.0</td>\n      <td>48 vCPUs</td>\n      <td>48</td>\n      <td>Intel Xeon Platinum 8151</td>\n      <td>4 GHz</td>\n      <td>4.0</td>\n      <td>1800 GiB               (2 * 900 GiB NVMe SSD)</td>\n      <td>...</td>\n      <td>eu-central-1</td>\n      <td>101</td>\n      <td>3.125</td>\n      <td>50</td>\n      <td>24.0</td>\n      <td>192.0</td>\n      <td>900.0</td>\n      <td>0.5</td>\n      <td>2.5</td>\n      <td>15353.421210</td>\n    </tr>\n    <tr>\n      <th>7</th>\n      <td>X1E Extra Large</td>\n      <td>x1e.xlarge</td>\n      <td>122.0 GiB</td>\n      <td>122.0</td>\n      <td>4 vCPUs</td>\n      <td>4</td>\n      <td>High Frequency Intel Xeon E7-8880 v3 (Haswell)</td>\n      <td>2.3 GHz</td>\n      <td>2.3</td>\n      <td>120 GiB               SSD</td>\n      <td>...</td>\n      <td>eu-central-1</td>\n      <td>101</td>\n      <td>1.250</td>\n      <td>50</td>\n      <td>2.0</td>\n      <td>61.0</td>\n      <td>60.0</td>\n      <td>0.5</td>\n      <td>1.0</td>\n      <td>23285.647437</td>\n    </tr>\n    <tr>\n      <th>8</th>\n      <td>X1E Eight Extra Large</td>\n      <td>x1e.8xlarge</td>\n      <td>976.0 GiB</td>\n      <td>976.0</td>\n      <td>32 vCPUs</td>\n      <td>32</td>\n      <td>High Frequency Intel Xeon E7-8880 v3 (Haswell)</td>\n      <td>2.3 GHz</td>\n      <td>2.3</td>\n      <td>960 GiB               SSD</td>\n      <td>...</td>\n      <td>eu-central-1</td>\n      <td>101</td>\n      <td>1.250</td>\n      <td>50</td>\n      <td>16.0</td>\n      <td>488.0</td>\n      <td>480.0</td>\n      <td>0.5</td>\n      <td>1.0</td>\n      <td>23281.272437</td>\n    </tr>\n    <tr>\n      <th>9</th>\n      <td>X1E Quadruple Extra Large</td>\n      <td>x1e.4xlarge</td>\n      <td>488.0 GiB</td>\n      <td>488.0</td>\n      <td>16 vCPUs</td>\n      <td>16</td>\n      <td>High Frequency Intel Xeon E7-8880 v3 (Haswell)</td>\n      <td>2.3 GHz</td>\n      <td>2.3</td>\n      <td>480 GiB               SSD</td>\n      <td>...</td>\n      <td>eu-central-1</td>\n      <td>101</td>\n      <td>1.250</td>\n      <td>50</td>\n      <td>8.0</td>\n      <td>244.0</td>\n      <td>240.0</td>\n      <td>0.5</td>\n      <td>1.0</td>\n      <td>23281.897437</td>\n    </tr>\n  </tbody>\n</table>\n<p>10 rows × 31 columns</p>\n</div>"
     },
     "execution_count": 203,
     "metadata": {},
     "output_type": "execute_result"
    }
   ],
   "source": [
    "distr_caching_precomputed = distr_maker(shape=CACHE_SKEW, size=TOTAL_READS)\n",
    "distr_cache = model_distr_split_fn(distr_caching_precomputed, FIRST_READ_FROM_S3)\n",
    "calc_inst_speeds(instances)\n",
    "calc_time_for_config(instances, distr_cache)\n",
    "\n",
    "instances.head(10)"
   ],
   "metadata": {
    "collapsed": false,
    "ExecuteTime": {
     "end_time": "2023-06-17T15:05:00.990947588Z",
     "start_time": "2023-06-17T15:05:00.647978226Z"
    }
   }
  }
 ],
 "metadata": {
  "kernelspec": {
   "display_name": "Python 3",
   "language": "python",
   "name": "python3"
  },
  "language_info": {
   "codemirror_mode": {
    "name": "ipython",
    "version": 2
   },
   "file_extension": ".py",
   "mimetype": "text/x-python",
   "name": "python",
   "nbconvert_exporter": "python",
   "pygments_lexer": "ipython2",
   "version": "2.7.6"
  }
 },
 "nbformat": 4,
 "nbformat_minor": 0
}
