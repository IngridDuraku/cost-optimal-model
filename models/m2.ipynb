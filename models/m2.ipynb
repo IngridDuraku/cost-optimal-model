{
 "cells": [
  {
   "cell_type": "code",
   "execution_count": null,
   "metadata": {
    "collapsed": true
   },
   "outputs": [],
   "source": [
    "import pandas as pd\n",
    "import numpy as np\n",
    "from scipy.stats import zipf"
   ]
  },
  {
   "cell_type": "code",
   "execution_count": null,
   "outputs": [],
   "source": [
    "MODEL_FACTORS_BANDWIDTH = {\n",
    "    'RAM': 50,\n",
    "    'NVMe': 2,\n",
    "    'SSD': 0.5,\n",
    "    'HDD': 0.25,\n",
    "    'EBS': None,\n",
    "}\n",
    "\n",
    "# base workload\n",
    "CPU_H = 20\n",
    "TOTAL_READS = 800\n",
    "\n",
    "# caching\n",
    "CACHE_SKEW = 1.2\n",
    "FIRST_READ_FROM_S3 = True\n",
    "\n",
    "instances = pd.read_csv(\"data/ec2-instances.info.csv\")"
   ],
   "metadata": {
    "collapsed": false
   }
  },
  {
   "cell_type": "code",
   "execution_count": null,
   "outputs": [],
   "source": [
    "def calc_storage_speed(inst, network_speed):\n",
    "    bws = np.array([MODEL_FACTORS_BANDWIDTH[x] for x in inst['storage.type'].astype(str)]) * inst['id.slice.sto'] * inst['id.slice.factor']\n",
    "    bws[np.isnan(bws)] = network_speed[np.isnan(bws)]\n",
    "    return bws\n",
    "\n",
    "\n",
    "def distr_maker(shape, size):\n",
    "    if np.isnan(size):\n",
    "        return []\n",
    "    if size <= 1:\n",
    "        return [size]\n",
    "\n",
    "    distr = zipf.pmf(np.arange(1, size+1), shape)\n",
    "    normd = distr / np.sum(distr) * size\n",
    "    return normd.tolist()\n",
    "\n",
    "def model_distr_hsplit(distr, lim):\n",
    "    dist_low = np.minimum(distr, lim)\n",
    "    dist_high = np.maximum(distr - dist_low, 0)\n",
    "    return [dist_low, dist_high]\n",
    "\n",
    "\n",
    "def model_distr_split_fn(distr, split_first_read):\n",
    "    if split_first_read:\n",
    "        split_dist = model_distr_hsplit(distr, 1)\n",
    "    else:\n",
    "        split_dist = [np.zeros(len(distr)), distr]\n",
    "    return {\"initial\": split_dist[0], \"working\": split_dist[1]}\n",
    "\n",
    "def calc_inst_speeds(inst):\n",
    "    # TODO: change column names when working on clean data\n",
    "    inst['calc_net_speed'] = inst['network_performance.value.Gib'] / 8\n",
    "    inst['calc_mem_speed']= MODEL_FACTORS_BANDWIDTH['RAM']\n",
    "    inst['calc_cpu_real']= inst['vcpu.value.count'] / 2\n",
    "    inst['calc_mem_caching']= inst['memory.value.gib'] / 2\n",
    "    inst['calc_sto_caching']= inst['storage.sum.gib'] / 2\n",
    "    inst['calc_sto_speed']= MODEL_FACTORS_BANDWIDTH['SSD']\n",
    "    inst['calc_s3_speed'] = inst['calc_net_speed'] * 0.8\n",
    "\n",
    "\n",
    "def calc_time_for_config(inst, query, distr_cache):\n",
    "    bins_cache = {\n",
    "        'data_mem': {'size': round(inst['calc.mem.caching']), 'prio': inst['calc.mem.speed']},\n",
    "        'data_sto': {'size': round(inst['calc.sto.caching']), 'prio': inst['calc.sto.speed']},\n",
    "        'data_s3': {'size': [len(distr_cache['working'])] * len(inst), 'prio': inst['calc.net.speed']}\n",
    "    }\n"
   ],
   "metadata": {
    "collapsed": false
   }
  }
 ],
 "metadata": {
  "kernelspec": {
   "display_name": "Python 3",
   "language": "python",
   "name": "python3"
  },
  "language_info": {
   "codemirror_mode": {
    "name": "ipython",
    "version": 2
   },
   "file_extension": ".py",
   "mimetype": "text/x-python",
   "name": "python",
   "nbconvert_exporter": "python",
   "pygments_lexer": "ipython2",
   "version": "2.7.6"
  }
 },
 "nbformat": 4,
 "nbformat_minor": 0
}
