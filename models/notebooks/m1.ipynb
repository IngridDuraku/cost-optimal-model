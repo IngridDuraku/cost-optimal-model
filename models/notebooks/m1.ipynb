{
 "cells": [
  {
   "cell_type": "code",
   "execution_count": 4,
   "metadata": {
    "collapsed": true,
    "ExecuteTime": {
     "end_time": "2023-09-18T18:58:29.580227956Z",
     "start_time": "2023-09-18T18:58:29.416974349Z"
    }
   },
   "outputs": [],
   "source": [
    "import pandas as pd"
   ]
  },
  {
   "cell_type": "code",
   "execution_count": 5,
   "outputs": [],
   "source": [
    "CPU_H = 20\n",
    "TOTAL_READS = 800\n",
    "\n",
    "instances = pd.read_csv(\"../../input/instances.csv\")"
   ],
   "metadata": {
    "collapsed": false,
    "ExecuteTime": {
     "end_time": "2023-09-18T18:58:31.990280982Z",
     "start_time": "2023-09-18T18:58:31.981273200Z"
    }
   }
  },
  {
   "cell_type": "code",
   "execution_count": 7,
   "outputs": [
    {
     "data": {
      "text/plain": "    Unnamed: 0             id  memory_Gib  vcpu_count  clock_ghz  storage_Gib  \\\n0         8627    m5.24xlarge       384.0        96.0        3.1          0.0   \n1         8635    c5.24xlarge       192.0        96.0        3.0          0.0   \n2         8646   r5n.24xlarge       768.0        96.0        2.5          0.0   \n3         8656   r5d.24xlarge       768.0        96.0        3.1       3600.0   \n4         8673  i3en.24xlarge       768.0        96.0        3.1      60000.0   \n5         8674   c5n.18xlarge       192.0        72.0        3.0          0.0   \n6         8683   m5d.24xlarge       384.0        96.0        3.1       3600.0   \n7         8698   c5d.24xlarge       192.0        96.0        3.0       3600.0   \n8         8712    r5.24xlarge       768.0        96.0        3.1          0.0   \n9         8717   x1e.32xlarge      3904.0       128.0        2.3       3840.0   \n10        8728  m5dn.24xlarge       384.0        96.0        3.1       3600.0   \n11        8767   m5n.24xlarge       384.0        96.0        3.1          0.0   \n12        8771   z1d.12xlarge       384.0        48.0        4.0       1800.0   \n13        8825    i3.16xlarge       488.0        64.0        2.3      15200.0   \n14        8837  r5dn.24xlarge       768.0        96.0        3.1       3600.0   \n\n    storage_count storage_type  network_Gbps  network_is_steady  ...  \\\n0             0.0          EBS            25               True  ...   \n1             0.0          EBS            25               True  ...   \n2             0.0          EBS           100               True  ...   \n3             4.0         NVMe            25               True  ...   \n4             8.0         NVMe           100               True  ...   \n5             0.0          EBS           100               True  ...   \n6             4.0         NVMe            25               True  ...   \n7             4.0         NVMe            25               True  ...   \n8             0.0          EBS            25               True  ...   \n9             2.0          SSD            25               True  ...   \n10            4.0         NVMe           100               True  ...   \n11            0.0          EBS           100               True  ...   \n12            2.0         NVMe            25               True  ...   \n13            8.0         NVMe            25               True  ...   \n14            4.0         NVMe           100               True  ...   \n\n    calc_net_speed  calc_s3_speed calc_mem_speed  calc_sto_speed  \\\n0            3.125            2.5             50           3.125   \n1            3.125            2.5             50           3.125   \n2           12.500           10.0             50          12.500   \n3            3.125            2.5             50           8.000   \n4           12.500           10.0             50          16.000   \n5           12.500           10.0             50          12.500   \n6            3.125            2.5             50           8.000   \n7            3.125            2.5             50           8.000   \n8            3.125            2.5             50           3.125   \n9            3.125            2.5             50           1.000   \n10          12.500           10.0             50           8.000   \n11          12.500           10.0             50          12.500   \n12           3.125            2.5             50           4.000   \n13           3.125            2.5             50          16.000   \n14          12.500           10.0             50           8.000   \n\n    calc_cpu_real  calc_mem_caching  calc_sto_caching  calc_mem_spooling  \\\n0            48.0             192.0               0.0              192.0   \n1            48.0              96.0               0.0               96.0   \n2            48.0             384.0               0.0              384.0   \n3            48.0             384.0            1800.0              384.0   \n4            48.0             384.0           30000.0              384.0   \n5            36.0              96.0               0.0               96.0   \n6            48.0             192.0            1800.0              192.0   \n7            48.0              96.0            1800.0               96.0   \n8            48.0             384.0               0.0              384.0   \n9            64.0            1952.0            1920.0             1952.0   \n10           48.0             192.0            1800.0              192.0   \n11           48.0             192.0               0.0              192.0   \n12           24.0             192.0             900.0              192.0   \n13           32.0             244.0            7600.0              244.0   \n14           48.0             384.0            1800.0              384.0   \n\n    calc_sto_spooling  execution_time_m1  \n0                 0.0          40.208333  \n1                 0.0          40.208333  \n2                 0.0          10.208333  \n3              1800.0          40.208333  \n4             30000.0          10.208333  \n5                 0.0          10.277778  \n6              1800.0          40.208333  \n7              1800.0          40.208333  \n8                 0.0          40.208333  \n9              1920.0          40.156250  \n10             1800.0          10.208333  \n11                0.0          10.208333  \n12              900.0          40.416667  \n13             7600.0          40.312500  \n14             1800.0          10.208333  \n\n[15 rows x 30 columns]",
      "text/html": "<div>\n<style scoped>\n    .dataframe tbody tr th:only-of-type {\n        vertical-align: middle;\n    }\n\n    .dataframe tbody tr th {\n        vertical-align: top;\n    }\n\n    .dataframe thead th {\n        text-align: right;\n    }\n</style>\n<table border=\"1\" class=\"dataframe\">\n  <thead>\n    <tr style=\"text-align: right;\">\n      <th></th>\n      <th>Unnamed: 0</th>\n      <th>id</th>\n      <th>memory_Gib</th>\n      <th>vcpu_count</th>\n      <th>clock_ghz</th>\n      <th>storage_Gib</th>\n      <th>storage_count</th>\n      <th>storage_type</th>\n      <th>network_Gbps</th>\n      <th>network_is_steady</th>\n      <th>...</th>\n      <th>calc_net_speed</th>\n      <th>calc_s3_speed</th>\n      <th>calc_mem_speed</th>\n      <th>calc_sto_speed</th>\n      <th>calc_cpu_real</th>\n      <th>calc_mem_caching</th>\n      <th>calc_sto_caching</th>\n      <th>calc_mem_spooling</th>\n      <th>calc_sto_spooling</th>\n      <th>execution_time_m1</th>\n    </tr>\n  </thead>\n  <tbody>\n    <tr>\n      <th>0</th>\n      <td>8627</td>\n      <td>m5.24xlarge</td>\n      <td>384.0</td>\n      <td>96.0</td>\n      <td>3.1</td>\n      <td>0.0</td>\n      <td>0.0</td>\n      <td>EBS</td>\n      <td>25</td>\n      <td>True</td>\n      <td>...</td>\n      <td>3.125</td>\n      <td>2.5</td>\n      <td>50</td>\n      <td>3.125</td>\n      <td>48.0</td>\n      <td>192.0</td>\n      <td>0.0</td>\n      <td>192.0</td>\n      <td>0.0</td>\n      <td>40.208333</td>\n    </tr>\n    <tr>\n      <th>1</th>\n      <td>8635</td>\n      <td>c5.24xlarge</td>\n      <td>192.0</td>\n      <td>96.0</td>\n      <td>3.0</td>\n      <td>0.0</td>\n      <td>0.0</td>\n      <td>EBS</td>\n      <td>25</td>\n      <td>True</td>\n      <td>...</td>\n      <td>3.125</td>\n      <td>2.5</td>\n      <td>50</td>\n      <td>3.125</td>\n      <td>48.0</td>\n      <td>96.0</td>\n      <td>0.0</td>\n      <td>96.0</td>\n      <td>0.0</td>\n      <td>40.208333</td>\n    </tr>\n    <tr>\n      <th>2</th>\n      <td>8646</td>\n      <td>r5n.24xlarge</td>\n      <td>768.0</td>\n      <td>96.0</td>\n      <td>2.5</td>\n      <td>0.0</td>\n      <td>0.0</td>\n      <td>EBS</td>\n      <td>100</td>\n      <td>True</td>\n      <td>...</td>\n      <td>12.500</td>\n      <td>10.0</td>\n      <td>50</td>\n      <td>12.500</td>\n      <td>48.0</td>\n      <td>384.0</td>\n      <td>0.0</td>\n      <td>384.0</td>\n      <td>0.0</td>\n      <td>10.208333</td>\n    </tr>\n    <tr>\n      <th>3</th>\n      <td>8656</td>\n      <td>r5d.24xlarge</td>\n      <td>768.0</td>\n      <td>96.0</td>\n      <td>3.1</td>\n      <td>3600.0</td>\n      <td>4.0</td>\n      <td>NVMe</td>\n      <td>25</td>\n      <td>True</td>\n      <td>...</td>\n      <td>3.125</td>\n      <td>2.5</td>\n      <td>50</td>\n      <td>8.000</td>\n      <td>48.0</td>\n      <td>384.0</td>\n      <td>1800.0</td>\n      <td>384.0</td>\n      <td>1800.0</td>\n      <td>40.208333</td>\n    </tr>\n    <tr>\n      <th>4</th>\n      <td>8673</td>\n      <td>i3en.24xlarge</td>\n      <td>768.0</td>\n      <td>96.0</td>\n      <td>3.1</td>\n      <td>60000.0</td>\n      <td>8.0</td>\n      <td>NVMe</td>\n      <td>100</td>\n      <td>True</td>\n      <td>...</td>\n      <td>12.500</td>\n      <td>10.0</td>\n      <td>50</td>\n      <td>16.000</td>\n      <td>48.0</td>\n      <td>384.0</td>\n      <td>30000.0</td>\n      <td>384.0</td>\n      <td>30000.0</td>\n      <td>10.208333</td>\n    </tr>\n    <tr>\n      <th>5</th>\n      <td>8674</td>\n      <td>c5n.18xlarge</td>\n      <td>192.0</td>\n      <td>72.0</td>\n      <td>3.0</td>\n      <td>0.0</td>\n      <td>0.0</td>\n      <td>EBS</td>\n      <td>100</td>\n      <td>True</td>\n      <td>...</td>\n      <td>12.500</td>\n      <td>10.0</td>\n      <td>50</td>\n      <td>12.500</td>\n      <td>36.0</td>\n      <td>96.0</td>\n      <td>0.0</td>\n      <td>96.0</td>\n      <td>0.0</td>\n      <td>10.277778</td>\n    </tr>\n    <tr>\n      <th>6</th>\n      <td>8683</td>\n      <td>m5d.24xlarge</td>\n      <td>384.0</td>\n      <td>96.0</td>\n      <td>3.1</td>\n      <td>3600.0</td>\n      <td>4.0</td>\n      <td>NVMe</td>\n      <td>25</td>\n      <td>True</td>\n      <td>...</td>\n      <td>3.125</td>\n      <td>2.5</td>\n      <td>50</td>\n      <td>8.000</td>\n      <td>48.0</td>\n      <td>192.0</td>\n      <td>1800.0</td>\n      <td>192.0</td>\n      <td>1800.0</td>\n      <td>40.208333</td>\n    </tr>\n    <tr>\n      <th>7</th>\n      <td>8698</td>\n      <td>c5d.24xlarge</td>\n      <td>192.0</td>\n      <td>96.0</td>\n      <td>3.0</td>\n      <td>3600.0</td>\n      <td>4.0</td>\n      <td>NVMe</td>\n      <td>25</td>\n      <td>True</td>\n      <td>...</td>\n      <td>3.125</td>\n      <td>2.5</td>\n      <td>50</td>\n      <td>8.000</td>\n      <td>48.0</td>\n      <td>96.0</td>\n      <td>1800.0</td>\n      <td>96.0</td>\n      <td>1800.0</td>\n      <td>40.208333</td>\n    </tr>\n    <tr>\n      <th>8</th>\n      <td>8712</td>\n      <td>r5.24xlarge</td>\n      <td>768.0</td>\n      <td>96.0</td>\n      <td>3.1</td>\n      <td>0.0</td>\n      <td>0.0</td>\n      <td>EBS</td>\n      <td>25</td>\n      <td>True</td>\n      <td>...</td>\n      <td>3.125</td>\n      <td>2.5</td>\n      <td>50</td>\n      <td>3.125</td>\n      <td>48.0</td>\n      <td>384.0</td>\n      <td>0.0</td>\n      <td>384.0</td>\n      <td>0.0</td>\n      <td>40.208333</td>\n    </tr>\n    <tr>\n      <th>9</th>\n      <td>8717</td>\n      <td>x1e.32xlarge</td>\n      <td>3904.0</td>\n      <td>128.0</td>\n      <td>2.3</td>\n      <td>3840.0</td>\n      <td>2.0</td>\n      <td>SSD</td>\n      <td>25</td>\n      <td>True</td>\n      <td>...</td>\n      <td>3.125</td>\n      <td>2.5</td>\n      <td>50</td>\n      <td>1.000</td>\n      <td>64.0</td>\n      <td>1952.0</td>\n      <td>1920.0</td>\n      <td>1952.0</td>\n      <td>1920.0</td>\n      <td>40.156250</td>\n    </tr>\n    <tr>\n      <th>10</th>\n      <td>8728</td>\n      <td>m5dn.24xlarge</td>\n      <td>384.0</td>\n      <td>96.0</td>\n      <td>3.1</td>\n      <td>3600.0</td>\n      <td>4.0</td>\n      <td>NVMe</td>\n      <td>100</td>\n      <td>True</td>\n      <td>...</td>\n      <td>12.500</td>\n      <td>10.0</td>\n      <td>50</td>\n      <td>8.000</td>\n      <td>48.0</td>\n      <td>192.0</td>\n      <td>1800.0</td>\n      <td>192.0</td>\n      <td>1800.0</td>\n      <td>10.208333</td>\n    </tr>\n    <tr>\n      <th>11</th>\n      <td>8767</td>\n      <td>m5n.24xlarge</td>\n      <td>384.0</td>\n      <td>96.0</td>\n      <td>3.1</td>\n      <td>0.0</td>\n      <td>0.0</td>\n      <td>EBS</td>\n      <td>100</td>\n      <td>True</td>\n      <td>...</td>\n      <td>12.500</td>\n      <td>10.0</td>\n      <td>50</td>\n      <td>12.500</td>\n      <td>48.0</td>\n      <td>192.0</td>\n      <td>0.0</td>\n      <td>192.0</td>\n      <td>0.0</td>\n      <td>10.208333</td>\n    </tr>\n    <tr>\n      <th>12</th>\n      <td>8771</td>\n      <td>z1d.12xlarge</td>\n      <td>384.0</td>\n      <td>48.0</td>\n      <td>4.0</td>\n      <td>1800.0</td>\n      <td>2.0</td>\n      <td>NVMe</td>\n      <td>25</td>\n      <td>True</td>\n      <td>...</td>\n      <td>3.125</td>\n      <td>2.5</td>\n      <td>50</td>\n      <td>4.000</td>\n      <td>24.0</td>\n      <td>192.0</td>\n      <td>900.0</td>\n      <td>192.0</td>\n      <td>900.0</td>\n      <td>40.416667</td>\n    </tr>\n    <tr>\n      <th>13</th>\n      <td>8825</td>\n      <td>i3.16xlarge</td>\n      <td>488.0</td>\n      <td>64.0</td>\n      <td>2.3</td>\n      <td>15200.0</td>\n      <td>8.0</td>\n      <td>NVMe</td>\n      <td>25</td>\n      <td>True</td>\n      <td>...</td>\n      <td>3.125</td>\n      <td>2.5</td>\n      <td>50</td>\n      <td>16.000</td>\n      <td>32.0</td>\n      <td>244.0</td>\n      <td>7600.0</td>\n      <td>244.0</td>\n      <td>7600.0</td>\n      <td>40.312500</td>\n    </tr>\n    <tr>\n      <th>14</th>\n      <td>8837</td>\n      <td>r5dn.24xlarge</td>\n      <td>768.0</td>\n      <td>96.0</td>\n      <td>3.1</td>\n      <td>3600.0</td>\n      <td>4.0</td>\n      <td>NVMe</td>\n      <td>100</td>\n      <td>True</td>\n      <td>...</td>\n      <td>12.500</td>\n      <td>10.0</td>\n      <td>50</td>\n      <td>8.000</td>\n      <td>48.0</td>\n      <td>384.0</td>\n      <td>1800.0</td>\n      <td>384.0</td>\n      <td>1800.0</td>\n      <td>10.208333</td>\n    </tr>\n  </tbody>\n</table>\n<p>15 rows × 30 columns</p>\n</div>"
     },
     "execution_count": 7,
     "metadata": {},
     "output_type": "execute_result"
    }
   ],
   "source": [
    "cpu_time = CPU_H / instances['vcpu_count']\n",
    "scan_time = TOTAL_READS / (0.8 * instances['network_Gbps'])\n",
    "\n",
    "instances['execution_time_m1'] = scan_time + cpu_time\n",
    "instances"
   ],
   "metadata": {
    "collapsed": false,
    "ExecuteTime": {
     "end_time": "2023-09-18T18:58:36.110083584Z",
     "start_time": "2023-09-18T18:58:36.097423096Z"
    }
   }
  }
 ],
 "metadata": {
  "kernelspec": {
   "display_name": "Python 3",
   "language": "python",
   "name": "python3"
  },
  "language_info": {
   "codemirror_mode": {
    "name": "ipython",
    "version": 2
   },
   "file_extension": ".py",
   "mimetype": "text/x-python",
   "name": "python",
   "nbconvert_exporter": "python",
   "pygments_lexer": "ipython2",
   "version": "2.7.6"
  }
 },
 "nbformat": 4,
 "nbformat_minor": 0
}
