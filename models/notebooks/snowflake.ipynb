{
 "cells": [
  {
   "cell_type": "code",
   "execution_count": 46,
   "metadata": {
    "collapsed": true,
    "ExecuteTime": {
     "end_time": "2023-08-25T09:11:10.158518430Z",
     "start_time": "2023-08-25T09:11:06.512421293Z"
    }
   },
   "outputs": [
    {
     "data": {
      "text/plain": "                id  memory_Gib  vcpu_count  clock_ghz  storage_Gib  \\\n8698  c5d.24xlarge       192.0        96.0        3.0       3600.0   \n\n      storage_count storage_type  network_Gbps  network_is_steady  cost_usdph  \\\n8698            4.0         NVMe            25               True       4.608   \n\n     loading_comment id_prefix id_numstr  id_number  id_slice  \\\n8698                       c5d        24       24.0      24.0   \n\n      id_slice_factor  id_slice_of  id_slice_net  id_slice_sto  \\\n8698              1.0         8698          25.0           4.0   \n\n      calc_net_speed  calc_s3_speed  calc_mem_speed  calc_sto_speed  \\\n8698           3.125            2.5              50             8.0   \n\n      calc_cpu_real  calc_mem_caching  calc_sto_caching  calc_mem_spooling  \\\n8698           48.0              96.0            1800.0               96.0   \n\n      calc_sto_spooling  \n8698             1800.0  ",
      "text/html": "<div>\n<style scoped>\n    .dataframe tbody tr th:only-of-type {\n        vertical-align: middle;\n    }\n\n    .dataframe tbody tr th {\n        vertical-align: top;\n    }\n\n    .dataframe thead th {\n        text-align: right;\n    }\n</style>\n<table border=\"1\" class=\"dataframe\">\n  <thead>\n    <tr style=\"text-align: right;\">\n      <th></th>\n      <th>id</th>\n      <th>memory_Gib</th>\n      <th>vcpu_count</th>\n      <th>clock_ghz</th>\n      <th>storage_Gib</th>\n      <th>storage_count</th>\n      <th>storage_type</th>\n      <th>network_Gbps</th>\n      <th>network_is_steady</th>\n      <th>cost_usdph</th>\n      <th>loading_comment</th>\n      <th>id_prefix</th>\n      <th>id_numstr</th>\n      <th>id_number</th>\n      <th>id_slice</th>\n      <th>id_slice_factor</th>\n      <th>id_slice_of</th>\n      <th>id_slice_net</th>\n      <th>id_slice_sto</th>\n      <th>calc_net_speed</th>\n      <th>calc_s3_speed</th>\n      <th>calc_mem_speed</th>\n      <th>calc_sto_speed</th>\n      <th>calc_cpu_real</th>\n      <th>calc_mem_caching</th>\n      <th>calc_sto_caching</th>\n      <th>calc_mem_spooling</th>\n      <th>calc_sto_spooling</th>\n    </tr>\n  </thead>\n  <tbody>\n    <tr>\n      <th>8698</th>\n      <td>c5d.24xlarge</td>\n      <td>192.0</td>\n      <td>96.0</td>\n      <td>3.0</td>\n      <td>3600.0</td>\n      <td>4.0</td>\n      <td>NVMe</td>\n      <td>25</td>\n      <td>True</td>\n      <td>4.608</td>\n      <td></td>\n      <td>c5d</td>\n      <td>24</td>\n      <td>24.0</td>\n      <td>24.0</td>\n      <td>1.0</td>\n      <td>8698</td>\n      <td>25.0</td>\n      <td>4.0</td>\n      <td>3.125</td>\n      <td>2.5</td>\n      <td>50</td>\n      <td>8.0</td>\n      <td>48.0</td>\n      <td>96.0</td>\n      <td>1800.0</td>\n      <td>96.0</td>\n      <td>1800.0</td>\n    </tr>\n  </tbody>\n</table>\n</div>"
     },
     "execution_count": 46,
     "metadata": {},
     "output_type": "execute_result"
    }
   ],
   "source": [
    "import pandas as pd\n",
    "import sqlalchemy\n",
    "from dotenv import dotenv_values\n",
    "import numpy as np\n",
    "\n",
    "from models.utils import distr_maker, model_distr_pack\n",
    "from preprocessing.instances import instSet_transform\n",
    "\n",
    "config = dotenv_values()\n",
    "engine = sqlalchemy.create_engine(f'postgresql+psycopg2://{config[\"USERNAME\"]}:{config[\"PASSWORD\"]}@{config[\"HOST\"]}/{config[\"DATABASE\"]}')\n",
    "SNOWFLAKE_INSTANCE = instSet_transform()\n",
    "SNOWFLAKE_INSTANCE = SNOWFLAKE_INSTANCE[SNOWFLAKE_INSTANCE[\"id\"] == \"c5d.24xlarge\"]\n",
    "SNOWFLAKE_INSTANCE"
   ]
  },
  {
   "cell_type": "code",
   "execution_count": 47,
   "outputs": [
    {
     "data": {
      "text/plain": "           warehouse_id  cpu_micros     scan_s3   scan_cache   spool_ssd  \\\n0   8065482011927780317    44680000     5644288   5432662688           0   \n1   3216081187640928772       20000           0            0           0   \n2   1852444650211263026      750000           0      2588672           0   \n3   6500664921228645018     1720000           0      4473856           0   \n4   7922643692981235608     2630000           0     13987840           0   \n..                  ...         ...         ...          ...         ...   \n64   807135403192681547   140220000  1677287424    101814016           0   \n65  9065742722817182439   667950000   181395968  15908220896  4791070720   \n66   592107993998651373    42020000           0     10134528    40513536   \n67  6882855326578019261     3820000     3294208      1955136    27623424   \n68  5396797649563403368   265540000           0     39903744   544407552   \n\n    spool_s3  warehouse_size  \n0          0               1  \n1          0               1  \n2          0               1  \n3          0               1  \n4          0               1  \n..       ...             ...  \n64         0               1  \n65         0               1  \n66         0               1  \n67         0               1  \n68         0               1  \n\n[69 rows x 7 columns]",
      "text/html": "<div>\n<style scoped>\n    .dataframe tbody tr th:only-of-type {\n        vertical-align: middle;\n    }\n\n    .dataframe tbody tr th {\n        vertical-align: top;\n    }\n\n    .dataframe thead th {\n        text-align: right;\n    }\n</style>\n<table border=\"1\" class=\"dataframe\">\n  <thead>\n    <tr style=\"text-align: right;\">\n      <th></th>\n      <th>warehouse_id</th>\n      <th>cpu_micros</th>\n      <th>scan_s3</th>\n      <th>scan_cache</th>\n      <th>spool_ssd</th>\n      <th>spool_s3</th>\n      <th>warehouse_size</th>\n    </tr>\n  </thead>\n  <tbody>\n    <tr>\n      <th>0</th>\n      <td>8065482011927780317</td>\n      <td>44680000</td>\n      <td>5644288</td>\n      <td>5432662688</td>\n      <td>0</td>\n      <td>0</td>\n      <td>1</td>\n    </tr>\n    <tr>\n      <th>1</th>\n      <td>3216081187640928772</td>\n      <td>20000</td>\n      <td>0</td>\n      <td>0</td>\n      <td>0</td>\n      <td>0</td>\n      <td>1</td>\n    </tr>\n    <tr>\n      <th>2</th>\n      <td>1852444650211263026</td>\n      <td>750000</td>\n      <td>0</td>\n      <td>2588672</td>\n      <td>0</td>\n      <td>0</td>\n      <td>1</td>\n    </tr>\n    <tr>\n      <th>3</th>\n      <td>6500664921228645018</td>\n      <td>1720000</td>\n      <td>0</td>\n      <td>4473856</td>\n      <td>0</td>\n      <td>0</td>\n      <td>1</td>\n    </tr>\n    <tr>\n      <th>4</th>\n      <td>7922643692981235608</td>\n      <td>2630000</td>\n      <td>0</td>\n      <td>13987840</td>\n      <td>0</td>\n      <td>0</td>\n      <td>1</td>\n    </tr>\n    <tr>\n      <th>...</th>\n      <td>...</td>\n      <td>...</td>\n      <td>...</td>\n      <td>...</td>\n      <td>...</td>\n      <td>...</td>\n      <td>...</td>\n    </tr>\n    <tr>\n      <th>64</th>\n      <td>807135403192681547</td>\n      <td>140220000</td>\n      <td>1677287424</td>\n      <td>101814016</td>\n      <td>0</td>\n      <td>0</td>\n      <td>1</td>\n    </tr>\n    <tr>\n      <th>65</th>\n      <td>9065742722817182439</td>\n      <td>667950000</td>\n      <td>181395968</td>\n      <td>15908220896</td>\n      <td>4791070720</td>\n      <td>0</td>\n      <td>1</td>\n    </tr>\n    <tr>\n      <th>66</th>\n      <td>592107993998651373</td>\n      <td>42020000</td>\n      <td>0</td>\n      <td>10134528</td>\n      <td>40513536</td>\n      <td>0</td>\n      <td>1</td>\n    </tr>\n    <tr>\n      <th>67</th>\n      <td>6882855326578019261</td>\n      <td>3820000</td>\n      <td>3294208</td>\n      <td>1955136</td>\n      <td>27623424</td>\n      <td>0</td>\n      <td>1</td>\n    </tr>\n    <tr>\n      <th>68</th>\n      <td>5396797649563403368</td>\n      <td>265540000</td>\n      <td>0</td>\n      <td>39903744</td>\n      <td>544407552</td>\n      <td>0</td>\n      <td>1</td>\n    </tr>\n  </tbody>\n</table>\n<p>69 rows × 7 columns</p>\n</div>"
     },
     "execution_count": 47,
     "metadata": {},
     "output_type": "execute_result"
    }
   ],
   "source": [
    "df_types = {\n",
    "        'warehouse_id': 'int64',\n",
    "        'cpu_micros': 'int64',\n",
    "        'scan_s3': 'int64',\n",
    "        'scan_cache': 'int64',\n",
    "        'spool_ssd': 'int64',\n",
    "        'spool_s3': 'int64',\n",
    "        'warehouse_size': 'int64'\n",
    "}\n",
    "\n",
    "sql_statement = sqlalchemy.text(\"\"\"\n",
    "   SELECT warehouseId,\n",
    "   sum(systemCpuTime) + sum(userCpuTime) AS cpu_micros,\n",
    "   sum(persistentReadBytesS3)            AS scan_s3,\n",
    "   sum(persistentReadBytesCache)         AS scan_cache,\n",
    "   sum(intDataReadBytesLocalSSD)         AS spool_ssd,\n",
    "   sum(intDataReadBytesS3)               AS spool_s3,\n",
    "   avg(warehouseSize)                    AS warehouse_size\n",
    "  FROM snowset TABLESAMPLE SYSTEM (0.01)\n",
    "  WHERE warehouseSize = 1\n",
    "  group by warehouseId\n",
    "\"\"\")\n",
    "\n",
    "result_df = None\n",
    "with engine.connect() as conn:\n",
    "    result_df = pd.DataFrame(conn.execute(sql_statement).fetchall(), columns=[\n",
    "        'warehouse_id',\n",
    "        'cpu_micros',\n",
    "        'scan_s3',\n",
    "        'scan_cache',\n",
    "        'spool_ssd',\n",
    "        'spool_s3',\n",
    "        'warehouse_size'\n",
    "    ]).astype(df_types)\n"
   ],
   "metadata": {
    "collapsed": false,
    "ExecuteTime": {
     "end_time": "2023-08-25T09:11:15.775388082Z",
     "start_time": "2023-08-25T09:11:15.285860976Z"
    }
   }
  },
  {
   "cell_type": "code",
   "execution_count": 54,
   "outputs": [],
   "source": [
    "def snowset_estimate_cache_skew(row):\n",
    "    scanned = (row['scan_s3'] + row['scan_cache'])/ row['warehouse_size'] / 1024**3\n",
    "    tail = row['scan_s3'] / row['warehouse_size'] / 1024**3\n",
    "\n",
    "    bins = {\n",
    "        'data_mem': pd.DataFrame(data={'size': SNOWFLAKE_INSTANCE['calc_mem_caching'].round(decimals=0), 'prio': SNOWFLAKE_INSTANCE['calc_mem_speed']}),\n",
    "        'data_sto': pd.DataFrame(data={'size': SNOWFLAKE_INSTANCE['calc_sto_caching'].round(decimals=0), 'prio': SNOWFLAKE_INSTANCE['calc_sto_speed']}),\n",
    "        'data_s3': pd.DataFrame(data={'size': scanned, 'prio': SNOWFLAKE_INSTANCE['calc_net_speed']})\n",
    "    }\n",
    "\n",
    "    skew = 0.00001\n",
    "    error = 1\n",
    "    i = 1\n",
    "\n",
    "    while error > 0.01 and i < 101 and skew > 0:\n",
    "        distribution = distr_maker(skew, round(scanned))\n",
    "        pack = model_distr_pack(bins, distribution)\n",
    "        if pack.iloc[0][\"data_s3\"] == 0:\n",
    "            break\n",
    "\n",
    "        err_abs = round(pack.iloc[0]['data_s3'] - float(tail),2)\n",
    "        error = round(abs(err_abs/tail), 2)\n",
    "        skew = skew + np.sign(err_abs) * min(0.1, error / (i * 0.5))\n",
    "        i += i\n",
    "\n",
    "    row['data_scan'] = scanned\n",
    "    row['cache_skew_tail'] = tail\n",
    "    row['cache_skew'] = skew\n",
    "    row['cache_skew_error'] = error\n",
    "    row['cache_skew_iter'] = i\n",
    "\n",
    "    return row\n",
    "\n"
   ],
   "metadata": {
    "collapsed": false,
    "ExecuteTime": {
     "end_time": "2023-08-25T09:20:03.020970243Z",
     "start_time": "2023-08-25T09:20:01.932101922Z"
    }
   }
  },
  {
   "cell_type": "code",
   "execution_count": 59,
   "outputs": [],
   "source": [
    "def snowset_spool_frac_estimation(row):\n",
    "    scanned = row['scan_s3'] + row['scan_cache']\n",
    "    spooled = row['spool_s3'] + row['spool_ssd']\n",
    "    if scanned:\n",
    "        frac = spooled / scanned\n",
    "    else:\n",
    "        frac = 0\n",
    "    row['spool_frac'] = frac\n",
    "\n",
    "    return row\n"
   ],
   "metadata": {
    "collapsed": false,
    "ExecuteTime": {
     "end_time": "2023-08-25T09:24:20.508979511Z",
     "start_time": "2023-08-25T09:24:19.946543558Z"
    }
   }
  },
  {
   "cell_type": "code",
   "execution_count": 60,
   "outputs": [],
   "source": [
    "result_df = result_df.apply(snowset_estimate_cache_skew, axis=1)\n",
    "result_df = result_df.apply(snowset_spool_frac_estimation, axis=1)"
   ],
   "metadata": {
    "collapsed": false,
    "ExecuteTime": {
     "end_time": "2023-08-25T09:24:24.507066927Z",
     "start_time": "2023-08-25T09:24:22.130052213Z"
    }
   }
  },
  {
   "cell_type": "code",
   "execution_count": 57,
   "outputs": [],
   "source": [
    "def snowset_row_est_spool_skew(row):\n",
    "    scanned = row['spool_frac'] * row['data_scan']\n",
    "    tail = row['spool_s3'] / row['warehouse_size'] / 1024 ** 3\n",
    "\n",
    "    if scanned < 1:\n",
    "        row['spool_skew_tail'] = tail\n",
    "        row['spool_skew'] = 0.0001\n",
    "        row['spool_skew_error'] = 0\n",
    "        row['spool_skew_iter'] = 0\n",
    "\n",
    "        return row\n",
    "\n",
    "    bins = {\n",
    "        'data_mem': pd.DataFrame(data={'size': SNOWFLAKE_INSTANCE['calc_mem_caching'].round(decimals=0), 'prio': SNOWFLAKE_INSTANCE['calc_mem_speed']}),\n",
    "        'data_sto': pd.DataFrame(data={'size': SNOWFLAKE_INSTANCE['calc_sto_caching'].round(decimals=0), 'prio': SNOWFLAKE_INSTANCE['calc_sto_speed']}),\n",
    "        'data_s3': pd.DataFrame(data={'size': scanned, 'prio': SNOWFLAKE_INSTANCE['calc_net_speed']})\n",
    "    }\n",
    "\n",
    "    skew = 0.00001\n",
    "    error = 1\n",
    "    iter_count = 1\n",
    "\n",
    "    while error > 0.01 and iter_count < 101 and skew > 0:\n",
    "        dist_est = distr_maker(skew, round(scanned))\n",
    "        pack = model_distr_pack(bins, dist_est)\n",
    "\n",
    "        if not pack.iloc[0]['data_s3'] or tail == 0:\n",
    "            break\n",
    "\n",
    "        print(\"Data S3: \", pack.iloc[0]['data_s3'])\n",
    "        print(\"Tail: \", tail)\n",
    "        err_abs = pack.iloc[0]['data_s3'] - tail\n",
    "        error = abs(err_abs / tail)\n",
    "        skew = skew + np.sign(err_abs) * min(0.1, error / (iter_count * 0.5))\n",
    "        iter_count += 1\n",
    "\n",
    "    if iter_count >= 100:\n",
    "        print([\"Aborted after 100 iterations, skew might not be very accurate\", skew])\n",
    "    if skew <= 0:\n",
    "        print([\"Skew < 0, this is a weird row.\", skew])\n",
    "\n",
    "    row['spool_skew_tail'] = tail\n",
    "    row['spool_skew'] = skew\n",
    "    row['spool_skew_error'] = error\n",
    "    row['spool_skew_iter'] = iter_count\n",
    "\n",
    "    return row\n"
   ],
   "metadata": {
    "collapsed": false,
    "ExecuteTime": {
     "end_time": "2023-08-25T09:20:52.631210153Z",
     "start_time": "2023-08-25T09:20:52.199856803Z"
    }
   }
  },
  {
   "cell_type": "code",
   "execution_count": 63,
   "outputs": [
    {
     "data": {
      "text/plain": "    warehouse_id   cpu_micros       scan_s3    scan_cache     spool_ssd  \\\n0   8.065482e+18   44680000.0  5.644288e+06  5.432663e+09  0.000000e+00   \n1   3.216081e+18      20000.0  0.000000e+00  0.000000e+00  0.000000e+00   \n2   1.852445e+18     750000.0  0.000000e+00  2.588672e+06  0.000000e+00   \n3   6.500665e+18    1720000.0  0.000000e+00  4.473856e+06  0.000000e+00   \n4   7.922644e+18    2630000.0  0.000000e+00  1.398784e+07  0.000000e+00   \n..           ...          ...           ...           ...           ...   \n64  8.071354e+17  140220000.0  1.677287e+09  1.018140e+08  0.000000e+00   \n65  9.065743e+18  667950000.0  1.813960e+08  1.590822e+10  4.791071e+09   \n66  5.921080e+17   42020000.0  0.000000e+00  1.013453e+07  4.051354e+07   \n67  6.882855e+18    3820000.0  3.294208e+06  1.955136e+06  2.762342e+07   \n68  5.396798e+18  265540000.0  0.000000e+00  3.990374e+07  5.444076e+08   \n\n    spool_s3  warehouse_size  data_scan  cache_skew_tail  cache_skew  \\\n0        0.0             1.0   5.064818         0.005257     0.00001   \n1        0.0             1.0   0.000000         0.000000     0.00001   \n2        0.0             1.0   0.002411         0.000000     0.00001   \n3        0.0             1.0   0.004167         0.000000     0.00001   \n4        0.0             1.0   0.013027         0.000000     0.00001   \n..       ...             ...        ...              ...         ...   \n64       0.0             1.0   1.656917         1.562096     0.00001   \n65       0.0             1.0  14.984623         0.168938     0.00001   \n66       0.0             1.0   0.009439         0.000000     0.00001   \n67       0.0             1.0   0.004889         0.003068     0.00001   \n68       0.0             1.0   0.037163         0.000000     0.00001   \n\n    cache_skew_error  cache_skew_iter  spool_frac  spool_skew_tail  \\\n0                1.0              1.0    0.000000              0.0   \n1                1.0              1.0    0.000000              0.0   \n2                1.0              1.0    0.000000              0.0   \n3                1.0              1.0    0.000000              0.0   \n4                1.0              1.0    0.000000              0.0   \n..               ...              ...         ...              ...   \n64               1.0              1.0    0.000000              0.0   \n65               1.0              1.0    0.297774              0.0   \n66               1.0              1.0    3.997575              0.0   \n67               1.0              1.0    5.262262              0.0   \n68               1.0              1.0   13.643019              0.0   \n\n    spool_skew  spool_skew_error  spool_skew_iter  \n0      0.00010               0.0              0.0  \n1      0.00010               0.0              0.0  \n2      0.00010               0.0              0.0  \n3      0.00010               0.0              0.0  \n4      0.00010               0.0              0.0  \n..         ...               ...              ...  \n64     0.00010               0.0              0.0  \n65     0.00001               1.0              1.0  \n66     0.00010               0.0              0.0  \n67     0.00010               0.0              0.0  \n68     0.00010               0.0              0.0  \n\n[69 rows x 17 columns]",
      "text/html": "<div>\n<style scoped>\n    .dataframe tbody tr th:only-of-type {\n        vertical-align: middle;\n    }\n\n    .dataframe tbody tr th {\n        vertical-align: top;\n    }\n\n    .dataframe thead th {\n        text-align: right;\n    }\n</style>\n<table border=\"1\" class=\"dataframe\">\n  <thead>\n    <tr style=\"text-align: right;\">\n      <th></th>\n      <th>warehouse_id</th>\n      <th>cpu_micros</th>\n      <th>scan_s3</th>\n      <th>scan_cache</th>\n      <th>spool_ssd</th>\n      <th>spool_s3</th>\n      <th>warehouse_size</th>\n      <th>data_scan</th>\n      <th>cache_skew_tail</th>\n      <th>cache_skew</th>\n      <th>cache_skew_error</th>\n      <th>cache_skew_iter</th>\n      <th>spool_frac</th>\n      <th>spool_skew_tail</th>\n      <th>spool_skew</th>\n      <th>spool_skew_error</th>\n      <th>spool_skew_iter</th>\n    </tr>\n  </thead>\n  <tbody>\n    <tr>\n      <th>0</th>\n      <td>8.065482e+18</td>\n      <td>44680000.0</td>\n      <td>5.644288e+06</td>\n      <td>5.432663e+09</td>\n      <td>0.000000e+00</td>\n      <td>0.0</td>\n      <td>1.0</td>\n      <td>5.064818</td>\n      <td>0.005257</td>\n      <td>0.00001</td>\n      <td>1.0</td>\n      <td>1.0</td>\n      <td>0.000000</td>\n      <td>0.0</td>\n      <td>0.00010</td>\n      <td>0.0</td>\n      <td>0.0</td>\n    </tr>\n    <tr>\n      <th>1</th>\n      <td>3.216081e+18</td>\n      <td>20000.0</td>\n      <td>0.000000e+00</td>\n      <td>0.000000e+00</td>\n      <td>0.000000e+00</td>\n      <td>0.0</td>\n      <td>1.0</td>\n      <td>0.000000</td>\n      <td>0.000000</td>\n      <td>0.00001</td>\n      <td>1.0</td>\n      <td>1.0</td>\n      <td>0.000000</td>\n      <td>0.0</td>\n      <td>0.00010</td>\n      <td>0.0</td>\n      <td>0.0</td>\n    </tr>\n    <tr>\n      <th>2</th>\n      <td>1.852445e+18</td>\n      <td>750000.0</td>\n      <td>0.000000e+00</td>\n      <td>2.588672e+06</td>\n      <td>0.000000e+00</td>\n      <td>0.0</td>\n      <td>1.0</td>\n      <td>0.002411</td>\n      <td>0.000000</td>\n      <td>0.00001</td>\n      <td>1.0</td>\n      <td>1.0</td>\n      <td>0.000000</td>\n      <td>0.0</td>\n      <td>0.00010</td>\n      <td>0.0</td>\n      <td>0.0</td>\n    </tr>\n    <tr>\n      <th>3</th>\n      <td>6.500665e+18</td>\n      <td>1720000.0</td>\n      <td>0.000000e+00</td>\n      <td>4.473856e+06</td>\n      <td>0.000000e+00</td>\n      <td>0.0</td>\n      <td>1.0</td>\n      <td>0.004167</td>\n      <td>0.000000</td>\n      <td>0.00001</td>\n      <td>1.0</td>\n      <td>1.0</td>\n      <td>0.000000</td>\n      <td>0.0</td>\n      <td>0.00010</td>\n      <td>0.0</td>\n      <td>0.0</td>\n    </tr>\n    <tr>\n      <th>4</th>\n      <td>7.922644e+18</td>\n      <td>2630000.0</td>\n      <td>0.000000e+00</td>\n      <td>1.398784e+07</td>\n      <td>0.000000e+00</td>\n      <td>0.0</td>\n      <td>1.0</td>\n      <td>0.013027</td>\n      <td>0.000000</td>\n      <td>0.00001</td>\n      <td>1.0</td>\n      <td>1.0</td>\n      <td>0.000000</td>\n      <td>0.0</td>\n      <td>0.00010</td>\n      <td>0.0</td>\n      <td>0.0</td>\n    </tr>\n    <tr>\n      <th>...</th>\n      <td>...</td>\n      <td>...</td>\n      <td>...</td>\n      <td>...</td>\n      <td>...</td>\n      <td>...</td>\n      <td>...</td>\n      <td>...</td>\n      <td>...</td>\n      <td>...</td>\n      <td>...</td>\n      <td>...</td>\n      <td>...</td>\n      <td>...</td>\n      <td>...</td>\n      <td>...</td>\n      <td>...</td>\n    </tr>\n    <tr>\n      <th>64</th>\n      <td>8.071354e+17</td>\n      <td>140220000.0</td>\n      <td>1.677287e+09</td>\n      <td>1.018140e+08</td>\n      <td>0.000000e+00</td>\n      <td>0.0</td>\n      <td>1.0</td>\n      <td>1.656917</td>\n      <td>1.562096</td>\n      <td>0.00001</td>\n      <td>1.0</td>\n      <td>1.0</td>\n      <td>0.000000</td>\n      <td>0.0</td>\n      <td>0.00010</td>\n      <td>0.0</td>\n      <td>0.0</td>\n    </tr>\n    <tr>\n      <th>65</th>\n      <td>9.065743e+18</td>\n      <td>667950000.0</td>\n      <td>1.813960e+08</td>\n      <td>1.590822e+10</td>\n      <td>4.791071e+09</td>\n      <td>0.0</td>\n      <td>1.0</td>\n      <td>14.984623</td>\n      <td>0.168938</td>\n      <td>0.00001</td>\n      <td>1.0</td>\n      <td>1.0</td>\n      <td>0.297774</td>\n      <td>0.0</td>\n      <td>0.00001</td>\n      <td>1.0</td>\n      <td>1.0</td>\n    </tr>\n    <tr>\n      <th>66</th>\n      <td>5.921080e+17</td>\n      <td>42020000.0</td>\n      <td>0.000000e+00</td>\n      <td>1.013453e+07</td>\n      <td>4.051354e+07</td>\n      <td>0.0</td>\n      <td>1.0</td>\n      <td>0.009439</td>\n      <td>0.000000</td>\n      <td>0.00001</td>\n      <td>1.0</td>\n      <td>1.0</td>\n      <td>3.997575</td>\n      <td>0.0</td>\n      <td>0.00010</td>\n      <td>0.0</td>\n      <td>0.0</td>\n    </tr>\n    <tr>\n      <th>67</th>\n      <td>6.882855e+18</td>\n      <td>3820000.0</td>\n      <td>3.294208e+06</td>\n      <td>1.955136e+06</td>\n      <td>2.762342e+07</td>\n      <td>0.0</td>\n      <td>1.0</td>\n      <td>0.004889</td>\n      <td>0.003068</td>\n      <td>0.00001</td>\n      <td>1.0</td>\n      <td>1.0</td>\n      <td>5.262262</td>\n      <td>0.0</td>\n      <td>0.00010</td>\n      <td>0.0</td>\n      <td>0.0</td>\n    </tr>\n    <tr>\n      <th>68</th>\n      <td>5.396798e+18</td>\n      <td>265540000.0</td>\n      <td>0.000000e+00</td>\n      <td>3.990374e+07</td>\n      <td>5.444076e+08</td>\n      <td>0.0</td>\n      <td>1.0</td>\n      <td>0.037163</td>\n      <td>0.000000</td>\n      <td>0.00001</td>\n      <td>1.0</td>\n      <td>1.0</td>\n      <td>13.643019</td>\n      <td>0.0</td>\n      <td>0.00010</td>\n      <td>0.0</td>\n      <td>0.0</td>\n    </tr>\n  </tbody>\n</table>\n<p>69 rows × 17 columns</p>\n</div>"
     },
     "execution_count": 63,
     "metadata": {},
     "output_type": "execute_result"
    }
   ],
   "source": [
    "result_df.apply(snowset_row_est_spool_skew, axis=1)"
   ],
   "metadata": {
    "collapsed": false,
    "ExecuteTime": {
     "end_time": "2023-08-25T09:25:15.106723662Z",
     "start_time": "2023-08-25T09:25:14.661084434Z"
    }
   }
  },
  {
   "cell_type": "code",
   "execution_count": null,
   "outputs": [],
   "source": [
    "def generate_params_from_snowflake(snowflake_data):\n",
    "    return {\n",
    "        'cpu_h': snowflake_data['cpu_micros'] / 10**6 / 60**2,\n",
    "        'total_reads': snowflake_data['scan_s3'] + snowflake_data['scan_cache'],\n",
    "        'cache_skew': snowflake_data['cache_skew'],\n",
    "        'first_read_from_s3': False,\n",
    "        'spooling_fraction': snowflake_data['spool_frac'],\n",
    "        'spooling_skew': snowflake_data['spool_skew'],\n",
    "        'spooling_read_sum':  snowflake_data['spool_frac'] * (snowflake_data['scan_s3'] + snowflake_data['scan_cache']),\n",
    "        'scaling_param': 0.95,\n",
    "        'max_instance_count': 128\n",
    "    }\n"
   ],
   "metadata": {
    "collapsed": false
   }
  },
  {
   "cell_type": "markdown",
   "source": [],
   "metadata": {
    "collapsed": false
   }
  }
 ],
 "metadata": {
  "kernelspec": {
   "display_name": "Python 3",
   "language": "python",
   "name": "python3"
  },
  "language_info": {
   "codemirror_mode": {
    "name": "ipython",
    "version": 2
   },
   "file_extension": ".py",
   "mimetype": "text/x-python",
   "name": "python",
   "nbconvert_exporter": "python",
   "pygments_lexer": "ipython2",
   "version": "2.7.6"
  }
 },
 "nbformat": 4,
 "nbformat_minor": 0
}
