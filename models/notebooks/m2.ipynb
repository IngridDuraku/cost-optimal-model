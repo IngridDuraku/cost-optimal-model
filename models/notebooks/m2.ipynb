{
 "cells": [
  {
   "cell_type": "code",
   "execution_count": 1,
   "metadata": {
    "collapsed": true,
    "ExecuteTime": {
     "end_time": "2023-09-18T18:59:59.214730078Z",
     "start_time": "2023-09-18T18:59:58.909010977Z"
    }
   },
   "outputs": [],
   "source": [
    "import pandas as pd\n",
    "import numpy as np\n",
    "from scipy.stats import zipf"
   ]
  },
  {
   "cell_type": "code",
   "execution_count": 2,
   "outputs": [],
   "source": [
    "MODEL_FACTORS_BANDWIDTH = {\n",
    "    'RAM': 50,\n",
    "    'NVMe': 2,\n",
    "    'SSD': 0.5,\n",
    "    'HDD': 0.25,\n",
    "    'EBS': None,\n",
    "}\n",
    "\n",
    "# base workload\n",
    "CPU_H = 20\n",
    "TOTAL_READS = 800\n",
    "\n",
    "# caching\n",
    "CACHE_SKEW = 1.2\n",
    "FIRST_READ_FROM_S3 = True\n",
    "\n",
    "instances = pd.read_csv(\"../../input/instances.csv\")"
   ],
   "metadata": {
    "collapsed": false,
    "ExecuteTime": {
     "end_time": "2023-09-18T19:00:00.802469432Z",
     "start_time": "2023-09-18T19:00:00.796696562Z"
    }
   }
  },
  {
   "cell_type": "code",
   "execution_count": 5,
   "outputs": [],
   "source": [
    "def distr_maker(shape, size):\n",
    "    if np.isnan(size):\n",
    "        return []\n",
    "    if size <= 1:\n",
    "        return [size]\n",
    "\n",
    "    distr = zipf.pmf(np.arange(1, size+1), shape)\n",
    "    normd = distr / np.sum(distr) * size\n",
    "    return normd.tolist()\n",
    "\n",
    "def model_distr_hsplit(distr, lim):\n",
    "    dist_low = np.minimum(distr, lim)\n",
    "    dist_high = np.maximum(distr - dist_low, 0)\n",
    "    return {'low': dist_low, 'high': dist_high}\n",
    "\n",
    "\n",
    "def model_distr_split_fn(distr, split_first_read):\n",
    "    if split_first_read:\n",
    "        split_dist = model_distr_hsplit(distr, 1)\n",
    "    else:\n",
    "        split_dist = [np.zeros(len(distr)), distr] # ToDO: Fix\n",
    "    return {\"initial\": split_dist['low'], \"working\": split_dist['high']}\n",
    "\n",
    "def calc_groups(sizes, distr_len):\n",
    "    if len(sizes) == 1:\n",
    "        return [sizes.index[0]] * min(sizes[0], distr_len)\n",
    "    elif sizes[0] > distr_len:\n",
    "        return []\n",
    "    else:\n",
    "        return [sizes.index[1]] * (min(sizes[1], distr_len) - sizes[0])\n",
    "\n",
    "\n",
    "def distr_pack_helper(bins, distr):\n",
    "    distr_len = len(distr)\n",
    "    bins = bins.sort_values(by='prio', ascending=False)\n",
    "    bins['acc_size'] = bins['size'].cumsum().astype('int32')\n",
    "    size_windows = bins['acc_size'].rolling(window=2)\n",
    "    res = []\n",
    "    for size_window in size_windows:\n",
    "        res.extend(calc_groups(size_window, distr_len))\n",
    "\n",
    "    result = pd.DataFrame(data={\n",
    "        'distr_val': distr,\n",
    "        'group': res\n",
    "    }).groupby('group').sum().transpose()\n",
    "\n",
    "    return result.reset_index()\n",
    "\n",
    "\n",
    "def model_distr_pack(bins, distr):\n",
    "    n = len(bins['data_mem']['prio'])\n",
    "    res = pd.DataFrame()\n",
    "    for i in range(n):\n",
    "        next_ = distr_pack_helper(\n",
    "            bins=pd.DataFrame(\n",
    "                data={\n",
    "                    'prio': [bins['data_mem']['prio'][i], bins['data_sto']['prio'][i], bins['data_s3']['prio'][i]],\n",
    "                    'size': [bins['data_mem']['size'][i], bins['data_sto']['size'][i], bins['data_s3']['size'][i]],\n",
    "                },\n",
    "                index=['data_mem', 'data_sto', 'data_s3']\n",
    "            ),\n",
    "            distr=distr\n",
    "        )\n",
    "        res = pd.concat([res, next_], ignore_index=True).fillna(0)\n",
    "\n",
    "\n",
    "    return res #.drop('group', axis=1)\n",
    "\n",
    "\n",
    "\n",
    "\n",
    "def calc_time_for_config(inst, distr_cache):\n",
    "    data_mem = pd.DataFrame(data = {'size': inst['calc_mem_caching'].round(decimals=0), 'prio': inst['calc_mem_speed']})\n",
    "    data_sto = pd.DataFrame(data =  {'size': inst['calc_sto_caching'].round(decimals=0), 'prio': inst['calc_sto_speed']})\n",
    "    data_s3 = pd.DataFrame(data={'size': [len(distr_cache['working'])] * len(instances), 'prio': inst['calc_net_speed']})\n",
    "\n",
    "    bins_cache = {\n",
    "        'data_mem': data_mem,\n",
    "        'data_sto': data_sto,\n",
    "        'data_s3': data_s3\n",
    "    }\n",
    "\n",
    "    mem_read_distribution = model_distr_pack(bins_cache, distr_cache['working'])\n",
    "    cpu_time = CPU_H / instances['vcpu_count']\n",
    "    inst['data_mem'] = mem_read_distribution['data_mem']\n",
    "    inst['data_sto'] = mem_read_distribution['data_sto']\n",
    "    inst['data_s3'] = mem_read_distribution['data_s3']\n",
    "\n",
    "    scan_time = mem_read_distribution['data_mem'] / inst['calc_mem_speed'] +  mem_read_distribution['data_sto'] / inst['calc_sto_speed'] + mem_read_distribution['data_s3'] / inst['calc_net_speed']\n",
    "    inst['execution_time_m2'] = cpu_time + scan_time\n",
    "\n"
   ],
   "metadata": {
    "collapsed": false,
    "ExecuteTime": {
     "end_time": "2023-09-18T19:00:17.388385609Z",
     "start_time": "2023-09-18T19:00:17.386915104Z"
    }
   }
  },
  {
   "cell_type": "code",
   "execution_count": 6,
   "outputs": [
    {
     "data": {
      "text/plain": "    Unnamed: 0             id  memory_Gib  vcpu_count  clock_ghz  storage_Gib  \\\n0         8627    m5.24xlarge       384.0        96.0        3.1          0.0   \n1         8635    c5.24xlarge       192.0        96.0        3.0          0.0   \n2         8646   r5n.24xlarge       768.0        96.0        2.5          0.0   \n3         8656   r5d.24xlarge       768.0        96.0        3.1       3600.0   \n4         8673  i3en.24xlarge       768.0        96.0        3.1      60000.0   \n5         8674   c5n.18xlarge       192.0        72.0        3.0          0.0   \n6         8683   m5d.24xlarge       384.0        96.0        3.1       3600.0   \n7         8698   c5d.24xlarge       192.0        96.0        3.0       3600.0   \n8         8712    r5.24xlarge       768.0        96.0        3.1          0.0   \n9         8717   x1e.32xlarge      3904.0       128.0        2.3       3840.0   \n10        8728  m5dn.24xlarge       384.0        96.0        3.1       3600.0   \n11        8767   m5n.24xlarge       384.0        96.0        3.1          0.0   \n12        8771   z1d.12xlarge       384.0        48.0        4.0       1800.0   \n13        8825    i3.16xlarge       488.0        64.0        2.3      15200.0   \n14        8837  r5dn.24xlarge       768.0        96.0        3.1       3600.0   \n\n    storage_count storage_type  network_Gbps  network_is_steady  ...  \\\n0             0.0          EBS            25               True  ...   \n1             0.0          EBS            25               True  ...   \n2             0.0          EBS           100               True  ...   \n3             4.0         NVMe            25               True  ...   \n4             8.0         NVMe           100               True  ...   \n5             0.0          EBS           100               True  ...   \n6             4.0         NVMe            25               True  ...   \n7             4.0         NVMe            25               True  ...   \n8             0.0          EBS            25               True  ...   \n9             2.0          SSD            25               True  ...   \n10            4.0         NVMe           100               True  ...   \n11            0.0          EBS           100               True  ...   \n12            2.0         NVMe            25               True  ...   \n13            8.0         NVMe            25               True  ...   \n14            4.0         NVMe           100               True  ...   \n\n    calc_sto_speed  calc_cpu_real calc_mem_caching  calc_sto_caching  \\\n0            3.125           48.0            192.0               0.0   \n1            3.125           48.0             96.0               0.0   \n2           12.500           48.0            384.0               0.0   \n3            8.000           48.0            384.0            1800.0   \n4           16.000           48.0            384.0           30000.0   \n5           12.500           36.0             96.0               0.0   \n6            8.000           48.0            192.0            1800.0   \n7            8.000           48.0             96.0            1800.0   \n8            3.125           48.0            384.0               0.0   \n9            1.000           64.0           1952.0            1920.0   \n10           8.000           48.0            192.0            1800.0   \n11          12.500           48.0            192.0               0.0   \n12           4.000           24.0            192.0             900.0   \n13          16.000           32.0            244.0            7600.0   \n14           8.000           48.0            384.0            1800.0   \n\n    calc_mem_spooling  calc_sto_spooling    data_mem  data_sto  data_s3  \\\n0               192.0                0.0  576.869284       0.0      0.0   \n1                96.0                0.0  576.869284       0.0      0.0   \n2               384.0                0.0  576.869284       0.0      0.0   \n3               384.0             1800.0  576.869284       0.0      0.0   \n4               384.0            30000.0  576.869284       0.0      0.0   \n5                96.0                0.0  576.869284       0.0      0.0   \n6               192.0             1800.0  576.869284       0.0      0.0   \n7                96.0             1800.0  576.869284       0.0      0.0   \n8               384.0                0.0  576.869284       0.0      0.0   \n9              1952.0             1920.0  576.869284       0.0      0.0   \n10              192.0             1800.0  576.869284       0.0      0.0   \n11              192.0                0.0  576.869284       0.0      0.0   \n12              192.0              900.0  576.869284       0.0      0.0   \n13              244.0             7600.0  576.869284       0.0      0.0   \n14              384.0             1800.0  576.869284       0.0      0.0   \n\n    execution_time_m2  \n0           11.745719  \n1           11.745719  \n2           11.745719  \n3           11.745719  \n4           11.745719  \n5           11.815163  \n6           11.745719  \n7           11.745719  \n8           11.745719  \n9           11.693636  \n10          11.745719  \n11          11.745719  \n12          11.954052  \n13          11.849886  \n14          11.745719  \n\n[15 rows x 33 columns]",
      "text/html": "<div>\n<style scoped>\n    .dataframe tbody tr th:only-of-type {\n        vertical-align: middle;\n    }\n\n    .dataframe tbody tr th {\n        vertical-align: top;\n    }\n\n    .dataframe thead th {\n        text-align: right;\n    }\n</style>\n<table border=\"1\" class=\"dataframe\">\n  <thead>\n    <tr style=\"text-align: right;\">\n      <th></th>\n      <th>Unnamed: 0</th>\n      <th>id</th>\n      <th>memory_Gib</th>\n      <th>vcpu_count</th>\n      <th>clock_ghz</th>\n      <th>storage_Gib</th>\n      <th>storage_count</th>\n      <th>storage_type</th>\n      <th>network_Gbps</th>\n      <th>network_is_steady</th>\n      <th>...</th>\n      <th>calc_sto_speed</th>\n      <th>calc_cpu_real</th>\n      <th>calc_mem_caching</th>\n      <th>calc_sto_caching</th>\n      <th>calc_mem_spooling</th>\n      <th>calc_sto_spooling</th>\n      <th>data_mem</th>\n      <th>data_sto</th>\n      <th>data_s3</th>\n      <th>execution_time_m2</th>\n    </tr>\n  </thead>\n  <tbody>\n    <tr>\n      <th>0</th>\n      <td>8627</td>\n      <td>m5.24xlarge</td>\n      <td>384.0</td>\n      <td>96.0</td>\n      <td>3.1</td>\n      <td>0.0</td>\n      <td>0.0</td>\n      <td>EBS</td>\n      <td>25</td>\n      <td>True</td>\n      <td>...</td>\n      <td>3.125</td>\n      <td>48.0</td>\n      <td>192.0</td>\n      <td>0.0</td>\n      <td>192.0</td>\n      <td>0.0</td>\n      <td>576.869284</td>\n      <td>0.0</td>\n      <td>0.0</td>\n      <td>11.745719</td>\n    </tr>\n    <tr>\n      <th>1</th>\n      <td>8635</td>\n      <td>c5.24xlarge</td>\n      <td>192.0</td>\n      <td>96.0</td>\n      <td>3.0</td>\n      <td>0.0</td>\n      <td>0.0</td>\n      <td>EBS</td>\n      <td>25</td>\n      <td>True</td>\n      <td>...</td>\n      <td>3.125</td>\n      <td>48.0</td>\n      <td>96.0</td>\n      <td>0.0</td>\n      <td>96.0</td>\n      <td>0.0</td>\n      <td>576.869284</td>\n      <td>0.0</td>\n      <td>0.0</td>\n      <td>11.745719</td>\n    </tr>\n    <tr>\n      <th>2</th>\n      <td>8646</td>\n      <td>r5n.24xlarge</td>\n      <td>768.0</td>\n      <td>96.0</td>\n      <td>2.5</td>\n      <td>0.0</td>\n      <td>0.0</td>\n      <td>EBS</td>\n      <td>100</td>\n      <td>True</td>\n      <td>...</td>\n      <td>12.500</td>\n      <td>48.0</td>\n      <td>384.0</td>\n      <td>0.0</td>\n      <td>384.0</td>\n      <td>0.0</td>\n      <td>576.869284</td>\n      <td>0.0</td>\n      <td>0.0</td>\n      <td>11.745719</td>\n    </tr>\n    <tr>\n      <th>3</th>\n      <td>8656</td>\n      <td>r5d.24xlarge</td>\n      <td>768.0</td>\n      <td>96.0</td>\n      <td>3.1</td>\n      <td>3600.0</td>\n      <td>4.0</td>\n      <td>NVMe</td>\n      <td>25</td>\n      <td>True</td>\n      <td>...</td>\n      <td>8.000</td>\n      <td>48.0</td>\n      <td>384.0</td>\n      <td>1800.0</td>\n      <td>384.0</td>\n      <td>1800.0</td>\n      <td>576.869284</td>\n      <td>0.0</td>\n      <td>0.0</td>\n      <td>11.745719</td>\n    </tr>\n    <tr>\n      <th>4</th>\n      <td>8673</td>\n      <td>i3en.24xlarge</td>\n      <td>768.0</td>\n      <td>96.0</td>\n      <td>3.1</td>\n      <td>60000.0</td>\n      <td>8.0</td>\n      <td>NVMe</td>\n      <td>100</td>\n      <td>True</td>\n      <td>...</td>\n      <td>16.000</td>\n      <td>48.0</td>\n      <td>384.0</td>\n      <td>30000.0</td>\n      <td>384.0</td>\n      <td>30000.0</td>\n      <td>576.869284</td>\n      <td>0.0</td>\n      <td>0.0</td>\n      <td>11.745719</td>\n    </tr>\n    <tr>\n      <th>5</th>\n      <td>8674</td>\n      <td>c5n.18xlarge</td>\n      <td>192.0</td>\n      <td>72.0</td>\n      <td>3.0</td>\n      <td>0.0</td>\n      <td>0.0</td>\n      <td>EBS</td>\n      <td>100</td>\n      <td>True</td>\n      <td>...</td>\n      <td>12.500</td>\n      <td>36.0</td>\n      <td>96.0</td>\n      <td>0.0</td>\n      <td>96.0</td>\n      <td>0.0</td>\n      <td>576.869284</td>\n      <td>0.0</td>\n      <td>0.0</td>\n      <td>11.815163</td>\n    </tr>\n    <tr>\n      <th>6</th>\n      <td>8683</td>\n      <td>m5d.24xlarge</td>\n      <td>384.0</td>\n      <td>96.0</td>\n      <td>3.1</td>\n      <td>3600.0</td>\n      <td>4.0</td>\n      <td>NVMe</td>\n      <td>25</td>\n      <td>True</td>\n      <td>...</td>\n      <td>8.000</td>\n      <td>48.0</td>\n      <td>192.0</td>\n      <td>1800.0</td>\n      <td>192.0</td>\n      <td>1800.0</td>\n      <td>576.869284</td>\n      <td>0.0</td>\n      <td>0.0</td>\n      <td>11.745719</td>\n    </tr>\n    <tr>\n      <th>7</th>\n      <td>8698</td>\n      <td>c5d.24xlarge</td>\n      <td>192.0</td>\n      <td>96.0</td>\n      <td>3.0</td>\n      <td>3600.0</td>\n      <td>4.0</td>\n      <td>NVMe</td>\n      <td>25</td>\n      <td>True</td>\n      <td>...</td>\n      <td>8.000</td>\n      <td>48.0</td>\n      <td>96.0</td>\n      <td>1800.0</td>\n      <td>96.0</td>\n      <td>1800.0</td>\n      <td>576.869284</td>\n      <td>0.0</td>\n      <td>0.0</td>\n      <td>11.745719</td>\n    </tr>\n    <tr>\n      <th>8</th>\n      <td>8712</td>\n      <td>r5.24xlarge</td>\n      <td>768.0</td>\n      <td>96.0</td>\n      <td>3.1</td>\n      <td>0.0</td>\n      <td>0.0</td>\n      <td>EBS</td>\n      <td>25</td>\n      <td>True</td>\n      <td>...</td>\n      <td>3.125</td>\n      <td>48.0</td>\n      <td>384.0</td>\n      <td>0.0</td>\n      <td>384.0</td>\n      <td>0.0</td>\n      <td>576.869284</td>\n      <td>0.0</td>\n      <td>0.0</td>\n      <td>11.745719</td>\n    </tr>\n    <tr>\n      <th>9</th>\n      <td>8717</td>\n      <td>x1e.32xlarge</td>\n      <td>3904.0</td>\n      <td>128.0</td>\n      <td>2.3</td>\n      <td>3840.0</td>\n      <td>2.0</td>\n      <td>SSD</td>\n      <td>25</td>\n      <td>True</td>\n      <td>...</td>\n      <td>1.000</td>\n      <td>64.0</td>\n      <td>1952.0</td>\n      <td>1920.0</td>\n      <td>1952.0</td>\n      <td>1920.0</td>\n      <td>576.869284</td>\n      <td>0.0</td>\n      <td>0.0</td>\n      <td>11.693636</td>\n    </tr>\n    <tr>\n      <th>10</th>\n      <td>8728</td>\n      <td>m5dn.24xlarge</td>\n      <td>384.0</td>\n      <td>96.0</td>\n      <td>3.1</td>\n      <td>3600.0</td>\n      <td>4.0</td>\n      <td>NVMe</td>\n      <td>100</td>\n      <td>True</td>\n      <td>...</td>\n      <td>8.000</td>\n      <td>48.0</td>\n      <td>192.0</td>\n      <td>1800.0</td>\n      <td>192.0</td>\n      <td>1800.0</td>\n      <td>576.869284</td>\n      <td>0.0</td>\n      <td>0.0</td>\n      <td>11.745719</td>\n    </tr>\n    <tr>\n      <th>11</th>\n      <td>8767</td>\n      <td>m5n.24xlarge</td>\n      <td>384.0</td>\n      <td>96.0</td>\n      <td>3.1</td>\n      <td>0.0</td>\n      <td>0.0</td>\n      <td>EBS</td>\n      <td>100</td>\n      <td>True</td>\n      <td>...</td>\n      <td>12.500</td>\n      <td>48.0</td>\n      <td>192.0</td>\n      <td>0.0</td>\n      <td>192.0</td>\n      <td>0.0</td>\n      <td>576.869284</td>\n      <td>0.0</td>\n      <td>0.0</td>\n      <td>11.745719</td>\n    </tr>\n    <tr>\n      <th>12</th>\n      <td>8771</td>\n      <td>z1d.12xlarge</td>\n      <td>384.0</td>\n      <td>48.0</td>\n      <td>4.0</td>\n      <td>1800.0</td>\n      <td>2.0</td>\n      <td>NVMe</td>\n      <td>25</td>\n      <td>True</td>\n      <td>...</td>\n      <td>4.000</td>\n      <td>24.0</td>\n      <td>192.0</td>\n      <td>900.0</td>\n      <td>192.0</td>\n      <td>900.0</td>\n      <td>576.869284</td>\n      <td>0.0</td>\n      <td>0.0</td>\n      <td>11.954052</td>\n    </tr>\n    <tr>\n      <th>13</th>\n      <td>8825</td>\n      <td>i3.16xlarge</td>\n      <td>488.0</td>\n      <td>64.0</td>\n      <td>2.3</td>\n      <td>15200.0</td>\n      <td>8.0</td>\n      <td>NVMe</td>\n      <td>25</td>\n      <td>True</td>\n      <td>...</td>\n      <td>16.000</td>\n      <td>32.0</td>\n      <td>244.0</td>\n      <td>7600.0</td>\n      <td>244.0</td>\n      <td>7600.0</td>\n      <td>576.869284</td>\n      <td>0.0</td>\n      <td>0.0</td>\n      <td>11.849886</td>\n    </tr>\n    <tr>\n      <th>14</th>\n      <td>8837</td>\n      <td>r5dn.24xlarge</td>\n      <td>768.0</td>\n      <td>96.0</td>\n      <td>3.1</td>\n      <td>3600.0</td>\n      <td>4.0</td>\n      <td>NVMe</td>\n      <td>100</td>\n      <td>True</td>\n      <td>...</td>\n      <td>8.000</td>\n      <td>48.0</td>\n      <td>384.0</td>\n      <td>1800.0</td>\n      <td>384.0</td>\n      <td>1800.0</td>\n      <td>576.869284</td>\n      <td>0.0</td>\n      <td>0.0</td>\n      <td>11.745719</td>\n    </tr>\n  </tbody>\n</table>\n<p>15 rows × 33 columns</p>\n</div>"
     },
     "execution_count": 6,
     "metadata": {},
     "output_type": "execute_result"
    }
   ],
   "source": [
    "distr_caching_precomputed = distr_maker(shape=CACHE_SKEW, size=TOTAL_READS)\n",
    "distr_cache = model_distr_split_fn(distr_caching_precomputed, FIRST_READ_FROM_S3)\n",
    "calc_time_for_config(instances, distr_cache)\n",
    "\n",
    "instances"
   ],
   "metadata": {
    "collapsed": false,
    "ExecuteTime": {
     "end_time": "2023-09-18T19:00:18.755078567Z",
     "start_time": "2023-09-18T19:00:18.693509239Z"
    }
   }
  }
 ],
 "metadata": {
  "kernelspec": {
   "display_name": "Python 3",
   "language": "python",
   "name": "python3"
  },
  "language_info": {
   "codemirror_mode": {
    "name": "ipython",
    "version": 2
   },
   "file_extension": ".py",
   "mimetype": "text/x-python",
   "name": "python",
   "nbconvert_exporter": "python",
   "pygments_lexer": "ipython2",
   "version": "2.7.6"
  }
 },
 "nbformat": 4,
 "nbformat_minor": 0
}
