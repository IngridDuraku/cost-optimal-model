{
 "cells": [
  {
   "cell_type": "code",
   "execution_count": 1,
   "metadata": {
    "collapsed": true,
    "ExecuteTime": {
     "end_time": "2023-09-18T19:22:29.210759027Z",
     "start_time": "2023-09-18T19:22:28.909007391Z"
    }
   },
   "outputs": [],
   "source": [
    "import pandas as pd\n",
    "from models.utils import model_make_scaling, distr_maker, model_distr_hsplit, model_distr_split_fn, distr_pack_helper, model_distr_pack\n"
   ]
  },
  {
   "cell_type": "code",
   "execution_count": 2,
   "outputs": [],
   "source": [
    "# base workload\n",
    "CPU_H = 20\n",
    "TOTAL_READS = 800\n",
    "\n",
    "# caching\n",
    "CACHE_SKEW = 0.1\n",
    "FIRST_READ_FROM_S3 = False\n",
    "\n",
    "# materialization\n",
    "SPOOLING_FRACTION = 0.2\n",
    "SPOOLING_SKEW = 0.1\n",
    "SPOOLING_READ_SUM = TOTAL_READS * SPOOLING_FRACTION\n",
    "\n",
    "# scaling\n",
    "SCALING_PARAM = 0.98  # - portion of the workload that can be parallelized across instances\n",
    "MAX_INSTANCE_COUNT = 32"
   ],
   "metadata": {
    "collapsed": false,
    "ExecuteTime": {
     "end_time": "2023-09-18T19:22:29.214180653Z",
     "start_time": "2023-09-18T19:22:29.211941333Z"
    }
   }
  },
  {
   "cell_type": "code",
   "execution_count": 3,
   "outputs": [],
   "source": [
    "inst = pd.read_csv(\"../../input/instances.csv\")"
   ],
   "metadata": {
    "collapsed": false,
    "ExecuteTime": {
     "end_time": "2023-09-18T19:22:31.422542200Z",
     "start_time": "2023-09-18T19:22:31.416383091Z"
    }
   }
  },
  {
   "cell_type": "code",
   "execution_count": 4,
   "outputs": [],
   "source": [
    "distr_caching_precomputed = [\n",
    "    distr_maker(shape=CACHE_SKEW, size=round(TOTAL_READS / n))\n",
    "    for n in range(1, MAX_INSTANCE_COUNT + 1)\n",
    "]\n",
    "distr_cache = list(map(lambda x: model_distr_split_fn(x, FIRST_READ_FROM_S3), distr_caching_precomputed))\n",
    "\n",
    "spooling_distr = [\n",
    "    0 if round(SPOOLING_READ_SUM/n) < 1 else distr_maker(shape=SPOOLING_SKEW, size=round(SPOOLING_READ_SUM / n))\n",
    "    for n in range(1, MAX_INSTANCE_COUNT + 1)\n",
    "]\n",
    "\n",
    "scaling = [model_make_scaling(SCALING_PARAM, n) for n in range(1, MAX_INSTANCE_COUNT+1)]\n"
   ],
   "metadata": {
    "collapsed": false,
    "ExecuteTime": {
     "end_time": "2023-09-18T19:22:33.637494296Z",
     "start_time": "2023-09-18T19:22:33.585610941Z"
    }
   }
  },
  {
   "cell_type": "code",
   "execution_count": 5,
   "outputs": [],
   "source": [
    "def calc_time_for_config_m4(inst, count,distr_cache, distr_spooling, scale):\n",
    "    inst = inst.reset_index()\n",
    "    bins_cache = {\n",
    "        'data_mem': pd.DataFrame(data={'size': inst['calc_mem_caching'].round(decimals=0), 'prio': inst['calc_mem_speed']}),\n",
    "        'data_sto': pd.DataFrame(data={'size': inst['calc_sto_caching'].round(decimals=0), 'prio': inst['calc_sto_speed']}),\n",
    "        'data_s3': pd.DataFrame(data={'size': [len(distr_cache['working'])] * len(inst), 'prio': inst['calc_net_speed']})\n",
    "    }\n",
    "\n",
    "    bins_spooling = {\n",
    "        'data_mem': pd.DataFrame(data={'size': inst['calc_mem_spooling'].round(decimals=0), 'prio': inst['calc_mem_speed']}),\n",
    "        'data_sto': pd.DataFrame(data={'size': inst['calc_sto_spooling'].round(decimals=0), 'prio': inst['calc_sto_speed']}),\n",
    "        'data_s3': pd.DataFrame(data={'size': [len(distr_spooling)] * len(inst), 'prio': inst['calc_net_speed']})\n",
    "    }\n",
    "\n",
    "    mem_read_distribution = model_distr_pack(bins_cache, distr_cache['working'])\n",
    "    spool_read_distribution = model_distr_pack(bins_spooling, distr_spooling)\n",
    "\n",
    "    spool_sum = sum(distr_spooling)\n",
    "    inv_eff = count * scale\n",
    "\n",
    "    result = pd.DataFrame(\n",
    "        columns=[\n",
    "            \"id_name\",\n",
    "            \"count\",\n",
    "            \"id\",\n",
    "            \"cost_usdph\",\n",
    "            \"read_cache_load\",\n",
    "            \"read_cache_mem\",\n",
    "            \"read_cache_sto\",\n",
    "            \"read_cache_s3\",\n",
    "            \"read_spool_mem\",\n",
    "            \"read_spool_sto\",\n",
    "            \"read_spool_s3\",\n",
    "            \"rw_mem\",\n",
    "            \"rw_sto\",\n",
    "            \"rw_s3\",\n",
    "            \"rw_xchg\",\n",
    "            \"stat_read_spool\",\n",
    "            \"stat_read_work\",\n",
    "            \"time_cpu\",\n",
    "            \"time_mem\",\n",
    "            \"time_sto\",\n",
    "            \"time_s3\",\n",
    "            \"time_xchg\",\n",
    "            \"stat_time_sum\",\n",
    "            \"stat_time_max\",\n",
    "            \"stat_time_period\"\n",
    "            ]\n",
    "    )\n",
    "\n",
    "    result[\"id_name\"] = inst[\"id\"]\n",
    "    result[\"count\"] = count\n",
    "    result[\"id\"] = result[\"id_name\"] + \"/\" + str(count)\n",
    "    result[\"cost_usdph\"] = inst[\"cost_usdph\"] * count\n",
    "\n",
    "    result[\"read_cache_load\"] = sum(distr_cache[\"initial\"])\n",
    "    result[\"read_cache_mem\"] = mem_read_distribution['data_mem']\n",
    "    result[\"read_cache_sto\"] = mem_read_distribution['data_sto']\n",
    "    result[\"read_cache_s3\"] = mem_read_distribution['data_s3']\n",
    "\n",
    "    result[\"read_spool_mem\"] = spool_read_distribution['data_mem']\n",
    "    result[\"read_cache_sto\"] = spool_read_distribution['data_sto']\n",
    "    result[\"read_cache_s3\"] = spool_read_distribution['data_s3']\n",
    "\n",
    "    result[\"rw_mem\"] = result[\"read_cache_mem\"] + 2 * result[\"read_spool_mem\"]\n",
    "    result[\"rw_sto\"] = result[\"read_cache_sto\"] + 2 * result[\"read_cache_sto\"]\n",
    "    result[\"rw_s3\"] = result[\"read_cache_s3\"] + 2 * result[\"read_cache_s3\"]\n",
    "\n",
    "    result[\"rw_xchg\"] = 0 if count == 0 else 2 * spool_sum\n",
    "\n",
    "    result[\"stat_read_spool\"] = spool_sum\n",
    "    result[\"stat_read_work\"] = sum(distr_cache[\"working\"])\n",
    "\n",
    "    result[\"time_cpu\"] = (CPU_H * 3600 / inst['calc_cpu_real']) * inv_eff\n",
    "    result[\"time_mem\"] = (result[\"rw_mem\"] / inst[\"calc_mem_speed\"]) * inv_eff\n",
    "    result[\"time_sto\"] = (result[\"rw_sto\"] / inst[\"calc_sto_speed\"]) * inv_eff\n",
    "    result[\"time_s3\"] = (result[\"rw_s3\"] / inst[\"calc_s3_speed\"]) * inv_eff\n",
    "\n",
    "    result[\"time_xchg\"] = (result[\"rw_xchg\"] / 2 / inst[\"calc_net_speed\"]) * inv_eff\n",
    "    result[\"time_load\"] = (result[\"read_cache_load\"] / inst[\"calc_s3_speed\"]) * inv_eff\n",
    "    result[\"stat_time_sum\"] = result[\"time_s3\"] + result[\"time_sto\"] + result[\"time_mem\"] + result[\"time_xchg\"]\\\n",
    "                              + result[\"time_load\"] + result[\"time_cpu\"]\n",
    "    result[\"stat_time_max\"] = result[[\"time_s3\", \"time_sto\", \"time_mem\", \"time_xchg\", \"time_load\", \"time_cpu\" ]].max(axis=1)\n",
    "\n",
    "    return result"
   ],
   "metadata": {
    "collapsed": false,
    "ExecuteTime": {
     "end_time": "2023-09-18T19:22:36.444858599Z",
     "start_time": "2023-09-18T19:22:36.442704890Z"
    }
   }
  },
  {
   "cell_type": "code",
   "execution_count": 9,
   "outputs": [
    {
     "data": {
      "text/plain": "          id_name  count               id  cost_usdph  read_cache_load  \\\n0     m5.24xlarge      4    m5.24xlarge/4      18.432              0.0   \n1     c5.24xlarge      4    c5.24xlarge/4      16.320              0.0   \n2    r5n.24xlarge      4   r5n.24xlarge/4      28.608              0.0   \n3    r5d.24xlarge      4   r5d.24xlarge/4      27.648              0.0   \n4   i3en.24xlarge      4  i3en.24xlarge/4      43.392              0.0   \n5    c5n.18xlarge      4   c5n.18xlarge/4      15.552              0.0   \n6    m5d.24xlarge      4   m5d.24xlarge/4      21.696              0.0   \n7    c5d.24xlarge      4   c5d.24xlarge/4      18.432              0.0   \n8     r5.24xlarge      4    r5.24xlarge/4      24.192              0.0   \n9    x1e.32xlarge      4   x1e.32xlarge/4     106.752              0.0   \n10  m5dn.24xlarge      4  m5dn.24xlarge/4      26.112              0.0   \n11   m5n.24xlarge      4   m5n.24xlarge/4      22.848              0.0   \n12   z1d.12xlarge      4   z1d.12xlarge/4      17.856              0.0   \n13    i3.16xlarge      4    i3.16xlarge/4      19.968              0.0   \n14  r5dn.24xlarge      4  r5dn.24xlarge/4      32.064              0.0   \n\n    read_cache_mem  read_cache_sto  read_cache_s3  read_spool_mem  \\\n0       192.770163             0.0            0.0            40.0   \n1       103.116733             0.0            0.0            40.0   \n2       200.000000             0.0            0.0            40.0   \n3       200.000000             0.0            0.0            40.0   \n4       200.000000             0.0            0.0            40.0   \n5       103.116733             0.0            0.0            40.0   \n6       192.770163             0.0            0.0            40.0   \n7       103.116733             0.0            0.0            40.0   \n8       200.000000             0.0            0.0            40.0   \n9       200.000000             0.0            0.0            40.0   \n10      192.770163             0.0            0.0            40.0   \n11      192.770163             0.0            0.0            40.0   \n12      192.770163             0.0            0.0            40.0   \n13      200.000000             0.0            0.0            40.0   \n14      200.000000             0.0            0.0            40.0   \n\n   read_spool_sto  ... stat_read_work  time_cpu  time_mem  time_sto  time_s3  \\\n0             NaN  ...          200.0    1590.0  5.782727       0.0      0.0   \n1             NaN  ...          200.0    1590.0  3.882075       0.0      0.0   \n2             NaN  ...          200.0    1590.0  5.936000       0.0      0.0   \n3             NaN  ...          200.0    1590.0  5.936000       0.0      0.0   \n4             NaN  ...          200.0    1590.0  5.936000       0.0      0.0   \n5             NaN  ...          200.0    2120.0  3.882075       0.0      0.0   \n6             NaN  ...          200.0    1590.0  5.782727       0.0      0.0   \n7             NaN  ...          200.0    1590.0  3.882075       0.0      0.0   \n8             NaN  ...          200.0    1590.0  5.936000       0.0      0.0   \n9             NaN  ...          200.0    1192.5  5.936000       0.0      0.0   \n10            NaN  ...          200.0    1590.0  5.782727       0.0      0.0   \n11            NaN  ...          200.0    1590.0  5.782727       0.0      0.0   \n12            NaN  ...          200.0    3180.0  5.782727       0.0      0.0   \n13            NaN  ...          200.0    2385.0  5.936000       0.0      0.0   \n14            NaN  ...          200.0    1590.0  5.936000       0.0      0.0   \n\n    time_xchg  stat_time_sum  stat_time_max  stat_time_period  time_load  \n0      13.568    1609.350727         1590.0               NaN        0.0  \n1      13.568    1607.450075         1590.0               NaN        0.0  \n2       3.392    1599.328000         1590.0               NaN        0.0  \n3      13.568    1609.504000         1590.0               NaN        0.0  \n4       3.392    1599.328000         1590.0               NaN        0.0  \n5       3.392    2127.274075         2120.0               NaN        0.0  \n6      13.568    1609.350727         1590.0               NaN        0.0  \n7      13.568    1607.450075         1590.0               NaN        0.0  \n8      13.568    1609.504000         1590.0               NaN        0.0  \n9      13.568    1212.004000         1192.5               NaN        0.0  \n10      3.392    1599.174727         1590.0               NaN        0.0  \n11      3.392    1599.174727         1590.0               NaN        0.0  \n12     13.568    3199.350727         3180.0               NaN        0.0  \n13     13.568    2404.504000         2385.0               NaN        0.0  \n14      3.392    1599.328000         1590.0               NaN        0.0  \n\n[15 rows x 26 columns]",
      "text/html": "<div>\n<style scoped>\n    .dataframe tbody tr th:only-of-type {\n        vertical-align: middle;\n    }\n\n    .dataframe tbody tr th {\n        vertical-align: top;\n    }\n\n    .dataframe thead th {\n        text-align: right;\n    }\n</style>\n<table border=\"1\" class=\"dataframe\">\n  <thead>\n    <tr style=\"text-align: right;\">\n      <th></th>\n      <th>id_name</th>\n      <th>count</th>\n      <th>id</th>\n      <th>cost_usdph</th>\n      <th>read_cache_load</th>\n      <th>read_cache_mem</th>\n      <th>read_cache_sto</th>\n      <th>read_cache_s3</th>\n      <th>read_spool_mem</th>\n      <th>read_spool_sto</th>\n      <th>...</th>\n      <th>stat_read_work</th>\n      <th>time_cpu</th>\n      <th>time_mem</th>\n      <th>time_sto</th>\n      <th>time_s3</th>\n      <th>time_xchg</th>\n      <th>stat_time_sum</th>\n      <th>stat_time_max</th>\n      <th>stat_time_period</th>\n      <th>time_load</th>\n    </tr>\n  </thead>\n  <tbody>\n    <tr>\n      <th>0</th>\n      <td>m5.24xlarge</td>\n      <td>4</td>\n      <td>m5.24xlarge/4</td>\n      <td>18.432</td>\n      <td>0.0</td>\n      <td>192.770163</td>\n      <td>0.0</td>\n      <td>0.0</td>\n      <td>40.0</td>\n      <td>NaN</td>\n      <td>...</td>\n      <td>200.0</td>\n      <td>1590.0</td>\n      <td>5.782727</td>\n      <td>0.0</td>\n      <td>0.0</td>\n      <td>13.568</td>\n      <td>1609.350727</td>\n      <td>1590.0</td>\n      <td>NaN</td>\n      <td>0.0</td>\n    </tr>\n    <tr>\n      <th>1</th>\n      <td>c5.24xlarge</td>\n      <td>4</td>\n      <td>c5.24xlarge/4</td>\n      <td>16.320</td>\n      <td>0.0</td>\n      <td>103.116733</td>\n      <td>0.0</td>\n      <td>0.0</td>\n      <td>40.0</td>\n      <td>NaN</td>\n      <td>...</td>\n      <td>200.0</td>\n      <td>1590.0</td>\n      <td>3.882075</td>\n      <td>0.0</td>\n      <td>0.0</td>\n      <td>13.568</td>\n      <td>1607.450075</td>\n      <td>1590.0</td>\n      <td>NaN</td>\n      <td>0.0</td>\n    </tr>\n    <tr>\n      <th>2</th>\n      <td>r5n.24xlarge</td>\n      <td>4</td>\n      <td>r5n.24xlarge/4</td>\n      <td>28.608</td>\n      <td>0.0</td>\n      <td>200.000000</td>\n      <td>0.0</td>\n      <td>0.0</td>\n      <td>40.0</td>\n      <td>NaN</td>\n      <td>...</td>\n      <td>200.0</td>\n      <td>1590.0</td>\n      <td>5.936000</td>\n      <td>0.0</td>\n      <td>0.0</td>\n      <td>3.392</td>\n      <td>1599.328000</td>\n      <td>1590.0</td>\n      <td>NaN</td>\n      <td>0.0</td>\n    </tr>\n    <tr>\n      <th>3</th>\n      <td>r5d.24xlarge</td>\n      <td>4</td>\n      <td>r5d.24xlarge/4</td>\n      <td>27.648</td>\n      <td>0.0</td>\n      <td>200.000000</td>\n      <td>0.0</td>\n      <td>0.0</td>\n      <td>40.0</td>\n      <td>NaN</td>\n      <td>...</td>\n      <td>200.0</td>\n      <td>1590.0</td>\n      <td>5.936000</td>\n      <td>0.0</td>\n      <td>0.0</td>\n      <td>13.568</td>\n      <td>1609.504000</td>\n      <td>1590.0</td>\n      <td>NaN</td>\n      <td>0.0</td>\n    </tr>\n    <tr>\n      <th>4</th>\n      <td>i3en.24xlarge</td>\n      <td>4</td>\n      <td>i3en.24xlarge/4</td>\n      <td>43.392</td>\n      <td>0.0</td>\n      <td>200.000000</td>\n      <td>0.0</td>\n      <td>0.0</td>\n      <td>40.0</td>\n      <td>NaN</td>\n      <td>...</td>\n      <td>200.0</td>\n      <td>1590.0</td>\n      <td>5.936000</td>\n      <td>0.0</td>\n      <td>0.0</td>\n      <td>3.392</td>\n      <td>1599.328000</td>\n      <td>1590.0</td>\n      <td>NaN</td>\n      <td>0.0</td>\n    </tr>\n    <tr>\n      <th>5</th>\n      <td>c5n.18xlarge</td>\n      <td>4</td>\n      <td>c5n.18xlarge/4</td>\n      <td>15.552</td>\n      <td>0.0</td>\n      <td>103.116733</td>\n      <td>0.0</td>\n      <td>0.0</td>\n      <td>40.0</td>\n      <td>NaN</td>\n      <td>...</td>\n      <td>200.0</td>\n      <td>2120.0</td>\n      <td>3.882075</td>\n      <td>0.0</td>\n      <td>0.0</td>\n      <td>3.392</td>\n      <td>2127.274075</td>\n      <td>2120.0</td>\n      <td>NaN</td>\n      <td>0.0</td>\n    </tr>\n    <tr>\n      <th>6</th>\n      <td>m5d.24xlarge</td>\n      <td>4</td>\n      <td>m5d.24xlarge/4</td>\n      <td>21.696</td>\n      <td>0.0</td>\n      <td>192.770163</td>\n      <td>0.0</td>\n      <td>0.0</td>\n      <td>40.0</td>\n      <td>NaN</td>\n      <td>...</td>\n      <td>200.0</td>\n      <td>1590.0</td>\n      <td>5.782727</td>\n      <td>0.0</td>\n      <td>0.0</td>\n      <td>13.568</td>\n      <td>1609.350727</td>\n      <td>1590.0</td>\n      <td>NaN</td>\n      <td>0.0</td>\n    </tr>\n    <tr>\n      <th>7</th>\n      <td>c5d.24xlarge</td>\n      <td>4</td>\n      <td>c5d.24xlarge/4</td>\n      <td>18.432</td>\n      <td>0.0</td>\n      <td>103.116733</td>\n      <td>0.0</td>\n      <td>0.0</td>\n      <td>40.0</td>\n      <td>NaN</td>\n      <td>...</td>\n      <td>200.0</td>\n      <td>1590.0</td>\n      <td>3.882075</td>\n      <td>0.0</td>\n      <td>0.0</td>\n      <td>13.568</td>\n      <td>1607.450075</td>\n      <td>1590.0</td>\n      <td>NaN</td>\n      <td>0.0</td>\n    </tr>\n    <tr>\n      <th>8</th>\n      <td>r5.24xlarge</td>\n      <td>4</td>\n      <td>r5.24xlarge/4</td>\n      <td>24.192</td>\n      <td>0.0</td>\n      <td>200.000000</td>\n      <td>0.0</td>\n      <td>0.0</td>\n      <td>40.0</td>\n      <td>NaN</td>\n      <td>...</td>\n      <td>200.0</td>\n      <td>1590.0</td>\n      <td>5.936000</td>\n      <td>0.0</td>\n      <td>0.0</td>\n      <td>13.568</td>\n      <td>1609.504000</td>\n      <td>1590.0</td>\n      <td>NaN</td>\n      <td>0.0</td>\n    </tr>\n    <tr>\n      <th>9</th>\n      <td>x1e.32xlarge</td>\n      <td>4</td>\n      <td>x1e.32xlarge/4</td>\n      <td>106.752</td>\n      <td>0.0</td>\n      <td>200.000000</td>\n      <td>0.0</td>\n      <td>0.0</td>\n      <td>40.0</td>\n      <td>NaN</td>\n      <td>...</td>\n      <td>200.0</td>\n      <td>1192.5</td>\n      <td>5.936000</td>\n      <td>0.0</td>\n      <td>0.0</td>\n      <td>13.568</td>\n      <td>1212.004000</td>\n      <td>1192.5</td>\n      <td>NaN</td>\n      <td>0.0</td>\n    </tr>\n    <tr>\n      <th>10</th>\n      <td>m5dn.24xlarge</td>\n      <td>4</td>\n      <td>m5dn.24xlarge/4</td>\n      <td>26.112</td>\n      <td>0.0</td>\n      <td>192.770163</td>\n      <td>0.0</td>\n      <td>0.0</td>\n      <td>40.0</td>\n      <td>NaN</td>\n      <td>...</td>\n      <td>200.0</td>\n      <td>1590.0</td>\n      <td>5.782727</td>\n      <td>0.0</td>\n      <td>0.0</td>\n      <td>3.392</td>\n      <td>1599.174727</td>\n      <td>1590.0</td>\n      <td>NaN</td>\n      <td>0.0</td>\n    </tr>\n    <tr>\n      <th>11</th>\n      <td>m5n.24xlarge</td>\n      <td>4</td>\n      <td>m5n.24xlarge/4</td>\n      <td>22.848</td>\n      <td>0.0</td>\n      <td>192.770163</td>\n      <td>0.0</td>\n      <td>0.0</td>\n      <td>40.0</td>\n      <td>NaN</td>\n      <td>...</td>\n      <td>200.0</td>\n      <td>1590.0</td>\n      <td>5.782727</td>\n      <td>0.0</td>\n      <td>0.0</td>\n      <td>3.392</td>\n      <td>1599.174727</td>\n      <td>1590.0</td>\n      <td>NaN</td>\n      <td>0.0</td>\n    </tr>\n    <tr>\n      <th>12</th>\n      <td>z1d.12xlarge</td>\n      <td>4</td>\n      <td>z1d.12xlarge/4</td>\n      <td>17.856</td>\n      <td>0.0</td>\n      <td>192.770163</td>\n      <td>0.0</td>\n      <td>0.0</td>\n      <td>40.0</td>\n      <td>NaN</td>\n      <td>...</td>\n      <td>200.0</td>\n      <td>3180.0</td>\n      <td>5.782727</td>\n      <td>0.0</td>\n      <td>0.0</td>\n      <td>13.568</td>\n      <td>3199.350727</td>\n      <td>3180.0</td>\n      <td>NaN</td>\n      <td>0.0</td>\n    </tr>\n    <tr>\n      <th>13</th>\n      <td>i3.16xlarge</td>\n      <td>4</td>\n      <td>i3.16xlarge/4</td>\n      <td>19.968</td>\n      <td>0.0</td>\n      <td>200.000000</td>\n      <td>0.0</td>\n      <td>0.0</td>\n      <td>40.0</td>\n      <td>NaN</td>\n      <td>...</td>\n      <td>200.0</td>\n      <td>2385.0</td>\n      <td>5.936000</td>\n      <td>0.0</td>\n      <td>0.0</td>\n      <td>13.568</td>\n      <td>2404.504000</td>\n      <td>2385.0</td>\n      <td>NaN</td>\n      <td>0.0</td>\n    </tr>\n    <tr>\n      <th>14</th>\n      <td>r5dn.24xlarge</td>\n      <td>4</td>\n      <td>r5dn.24xlarge/4</td>\n      <td>32.064</td>\n      <td>0.0</td>\n      <td>200.000000</td>\n      <td>0.0</td>\n      <td>0.0</td>\n      <td>40.0</td>\n      <td>NaN</td>\n      <td>...</td>\n      <td>200.0</td>\n      <td>1590.0</td>\n      <td>5.936000</td>\n      <td>0.0</td>\n      <td>0.0</td>\n      <td>3.392</td>\n      <td>1599.328000</td>\n      <td>1590.0</td>\n      <td>NaN</td>\n      <td>0.0</td>\n    </tr>\n  </tbody>\n</table>\n<p>15 rows × 26 columns</p>\n</div>"
     },
     "execution_count": 9,
     "metadata": {},
     "output_type": "execute_result"
    }
   ],
   "source": [
    "result = [calc_time_for_config_m4(inst, i, distr_cache[i-1], spooling_distr[i-1], scaling[i-1]) for i in range(1, MAX_INSTANCE_COUNT+1)]\n",
    "result[3]"
   ],
   "metadata": {
    "collapsed": false,
    "ExecuteTime": {
     "end_time": "2023-09-18T19:23:33.180001588Z",
     "start_time": "2023-09-18T19:23:30.528611424Z"
    }
   }
  }
 ],
 "metadata": {
  "kernelspec": {
   "display_name": "Python 3",
   "language": "python",
   "name": "python3"
  },
  "language_info": {
   "codemirror_mode": {
    "name": "ipython",
    "version": 2
   },
   "file_extension": ".py",
   "mimetype": "text/x-python",
   "name": "python",
   "nbconvert_exporter": "python",
   "pygments_lexer": "ipython2",
   "version": "2.7.6"
  }
 },
 "nbformat": 4,
 "nbformat_minor": 0
}
