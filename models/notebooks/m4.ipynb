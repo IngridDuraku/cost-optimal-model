{
 "cells": [
  {
   "cell_type": "code",
   "execution_count": 2,
   "metadata": {
    "collapsed": true,
    "ExecuteTime": {
     "end_time": "2023-07-23T14:38:11.429943876Z",
     "start_time": "2023-07-23T14:38:11.033613658Z"
    }
   },
   "outputs": [],
   "source": [
    "from models.const import SCALING_PARAM, MAX_INSTANCE_COUNT, CACHE_SKEW, TOTAL_READS, FIRST_READ_FROM_S3, SPOOLING_READ_SUM, SPOOLING_SKEW, CPU_H\n",
    "from models.utils import model_make_scaling, distr_maker, model_distr_hsplit, model_distr_split_fn, distr_pack_helper, model_distr_pack\n",
    "\n",
    "from preprocessing.instances import instSet_transform\n",
    "\n",
    "TOTAL_READS = 5000\n"
   ]
  },
  {
   "cell_type": "code",
   "execution_count": 3,
   "outputs": [],
   "source": [
    "import pandas as pd\n",
    "import numpy as np"
   ],
   "metadata": {
    "collapsed": false,
    "ExecuteTime": {
     "end_time": "2023-07-23T14:39:26.094497409Z",
     "start_time": "2023-07-23T14:39:26.049724421Z"
    }
   }
  },
  {
   "cell_type": "code",
   "execution_count": 4,
   "outputs": [],
   "source": [
    "inst = instSet_transform()"
   ],
   "metadata": {
    "collapsed": false,
    "ExecuteTime": {
     "end_time": "2023-07-23T14:39:28.557864366Z",
     "start_time": "2023-07-23T14:39:27.677548049Z"
    }
   }
  },
  {
   "cell_type": "code",
   "execution_count": 5,
   "outputs": [],
   "source": [
    "FIRST_READ_FROM_S3 = False\n",
    "distr_caching_precomputed = [\n",
    "    distr_maker(shape=CACHE_SKEW, size=round(TOTAL_READS / n))\n",
    "    for n in range(1, MAX_INSTANCE_COUNT + 1)\n",
    "]\n",
    "distr_cache = list(map(lambda x: model_distr_split_fn(x, FIRST_READ_FROM_S3), distr_caching_precomputed))\n",
    "\n",
    "spooling_distr = [\n",
    "    0 if round(SPOOLING_READ_SUM/n) < 1 else distr_maker(shape=SPOOLING_SKEW, size=round(SPOOLING_READ_SUM / n))\n",
    "    for n in range(1, MAX_INSTANCE_COUNT + 1)\n",
    "]\n",
    "\n",
    "scaling = [model_make_scaling(SCALING_PARAM, n) for n in range(1, MAX_INSTANCE_COUNT+1)]\n"
   ],
   "metadata": {
    "collapsed": false,
    "ExecuteTime": {
     "end_time": "2023-07-23T14:39:29.562199908Z",
     "start_time": "2023-07-23T14:39:29.536594257Z"
    }
   }
  },
  {
   "cell_type": "code",
   "execution_count": 7,
   "outputs": [],
   "source": [
    "def calc_time_for_config_m4(inst, count,distr_cache, distr_spooling, scale):\n",
    "    inst = inst.reset_index()\n",
    "    bins_cache = {\n",
    "        'data_mem': pd.DataFrame(data={'size': inst['calc_mem_caching'].round(decimals=0), 'prio': inst['calc_mem_speed']}),\n",
    "        'data_sto': pd.DataFrame(data={'size': inst['calc_sto_caching'].round(decimals=0), 'prio': inst['calc_sto_speed']}),\n",
    "        'data_s3': pd.DataFrame(data={'size': [len(distr_cache['working'])] * len(inst), 'prio': inst['calc_net_speed']})\n",
    "    }\n",
    "\n",
    "    bins_spooling = {\n",
    "        'data_mem': pd.DataFrame(data={'size': inst['calc_mem_spooling'].round(decimals=0), 'prio': inst['calc_mem_speed']}),\n",
    "        'data_sto': pd.DataFrame(data={'size': inst['calc_sto_spooling'].round(decimals=0), 'prio': inst['calc_sto_speed']}),\n",
    "        'data_s3': pd.DataFrame(data={'size': [len(distr_spooling)] * len(inst), 'prio': inst['calc_net_speed']})\n",
    "    }\n",
    "\n",
    "    mem_read_distribution = model_distr_pack(bins_cache, distr_cache['working'])\n",
    "    spool_read_distribution = model_distr_pack(bins_spooling, distr_spooling)\n",
    "\n",
    "    spool_sum = sum(distr_spooling)\n",
    "    inv_eff = count * scale\n",
    "\n",
    "    result = pd.DataFrame(\n",
    "        columns=[\n",
    "            \"id_name\",\n",
    "            \"count\",\n",
    "            \"id\",\n",
    "            \"cost_usdph\",\n",
    "            \"read_cache_load\",\n",
    "            \"read_cache_mem\",\n",
    "            \"read_cache_sto\",\n",
    "            \"read_cache_s3\",\n",
    "            \"read_spool_mem\",\n",
    "            \"read_spool_sto\",\n",
    "            \"read_spool_s3\",\n",
    "            \"rw_mem\",\n",
    "            \"rw_sto\",\n",
    "            \"rw_s3\",\n",
    "            \"rw_xchg\",\n",
    "            \"stat_read_spool\",\n",
    "            \"stat_read_work\",\n",
    "            \"time_cpu\",\n",
    "            \"time_mem\",\n",
    "            \"time_sto\",\n",
    "            \"time_s3\",\n",
    "            \"time_xchg\",\n",
    "            \"stat_time_sum\",\n",
    "            \"stat_time_max\",\n",
    "            \"stat_time_period\"\n",
    "            ]\n",
    "    )\n",
    "\n",
    "    result[\"id_name\"] = inst[\"id\"]\n",
    "    result[\"count\"] = count\n",
    "    result[\"id\"] = result[\"id_name\"] + \"/\" + str(count)\n",
    "    result[\"cost_usdph\"] = inst[\"cost_usdph\"] * count\n",
    "\n",
    "    result[\"read_cache_load\"] = sum(distr_cache[\"initial\"])\n",
    "    result[\"read_cache_mem\"] = mem_read_distribution['data_mem']\n",
    "    result[\"read_cache_sto\"] = mem_read_distribution['data_sto']\n",
    "    result[\"read_cache_s3\"] = mem_read_distribution['data_s3']\n",
    "\n",
    "    result[\"read_spool_mem\"] = spool_read_distribution['data_mem']\n",
    "    result[\"read_cache_sto\"] = spool_read_distribution['data_sto']\n",
    "    result[\"read_cache_s3\"] = spool_read_distribution['data_s3']\n",
    "\n",
    "    result[\"rw_mem\"] = result[\"read_cache_mem\"] + 2 * result[\"read_spool_mem\"]\n",
    "    result[\"rw_sto\"] = result[\"read_cache_sto\"] + 2 * result[\"read_cache_sto\"]\n",
    "    result[\"rw_s3\"] = result[\"read_cache_s3\"] + 2 * result[\"read_cache_s3\"]\n",
    "\n",
    "    result[\"rw_xchg\"] = 0 if count == 0 else 2 * spool_sum\n",
    "\n",
    "    result[\"stat_read_spool\"] = spool_sum\n",
    "    result[\"stat_read_work\"] = sum(distr_cache[\"working\"])\n",
    "\n",
    "    result[\"time_cpu\"] = (CPU_H * 3600 / inst['calc_cpu_real']) * inv_eff\n",
    "    result[\"time_mem\"] = (result[\"rw_mem\"] / inst[\"calc_mem_speed\"]) * inv_eff\n",
    "    result[\"time_sto\"] = (result[\"rw_sto\"] / inst[\"calc_sto_speed\"]) * inv_eff\n",
    "    result[\"time_s3\"] = (result[\"rw_s3\"] / inst[\"calc_s3_speed\"]) * inv_eff\n",
    "\n",
    "    result[\"time_xchg\"] = (result[\"rw_xchg\"] / 2 / inst[\"calc_net_speed\"]) * inv_eff\n",
    "    result[\"time_load\"] = (result[\"read_cache_load\"] / inst[\"calc_s3_speed\"]) * inv_eff\n",
    "    result[\"stat_time_sum\"] = result[\"time_s3\"] + result[\"time_sto\"] + result[\"time_mem\"] + result[\"time_xchg\"]\\\n",
    "                              + result[\"time_load\"] + result[\"time_cpu\"]\n",
    "    result[\"stat_time_max\"] = result[[\"time_s3\", \"time_sto\", \"time_mem\", \"time_xchg\", \"time_load\", \"time_cpu\" ]].max(axis=1)\n",
    "\n",
    "    return result"
   ],
   "metadata": {
    "collapsed": false,
    "ExecuteTime": {
     "end_time": "2023-07-23T14:40:52.694125351Z",
     "start_time": "2023-07-23T14:40:52.651839208Z"
    }
   }
  },
  {
   "cell_type": "code",
   "execution_count": 8,
   "outputs": [],
   "source": [
    "result = [calc_time_for_config_m4(inst, i, distr_cache[i-1], spooling_distr[i-1], scaling[i-1]) for i in range(1, MAX_INSTANCE_COUNT+1)]\n"
   ],
   "metadata": {
    "collapsed": false,
    "ExecuteTime": {
     "end_time": "2023-07-23T14:40:56.854468003Z",
     "start_time": "2023-07-23T14:40:55.030418629Z"
    }
   }
  },
  {
   "cell_type": "code",
   "execution_count": 9,
   "outputs": [
    {
     "data": {
      "text/plain": "          id_name  count                id  cost_usdph  read_cache_load  \\\n0     m5.24xlarge     32    m5.24xlarge/32     147.456              0.0   \n1     c5.24xlarge     32    c5.24xlarge/32     130.560              0.0   \n2    r5n.24xlarge     32   r5n.24xlarge/32     228.864              0.0   \n3    r5d.24xlarge     32   r5d.24xlarge/32     221.184              0.0   \n4   i3en.24xlarge     32  i3en.24xlarge/32     347.136              0.0   \n5    c5n.18xlarge     32   c5n.18xlarge/32     124.416              0.0   \n6    m5d.24xlarge     32   m5d.24xlarge/32     173.568              0.0   \n7    c5d.24xlarge     32   c5d.24xlarge/32     147.456              0.0   \n8     r5.24xlarge     32    r5.24xlarge/32     193.536              0.0   \n9    x1e.32xlarge     32   x1e.32xlarge/32     854.016              0.0   \n10  m5dn.24xlarge     32  m5dn.24xlarge/32     208.896              0.0   \n11   m5n.24xlarge     32   m5n.24xlarge/32     182.784              0.0   \n12   z1d.12xlarge     32   z1d.12xlarge/32     142.848              0.0   \n13    i3.16xlarge     32    i3.16xlarge/32     159.744              0.0   \n14  r5dn.24xlarge     32  r5dn.24xlarge/32     256.512              0.0   \n\n    read_cache_mem  read_cache_sto  read_cache_s3  read_spool_mem  \\\n0       156.000000               0              0            47.0   \n1       148.356914               0              0            47.0   \n2       156.000000               0              0            47.0   \n3       156.000000               0              0            47.0   \n4       156.000000               0              0            47.0   \n5       148.356914               0              0            47.0   \n6       156.000000               0              0            47.0   \n7       148.356914               0              0            47.0   \n8       156.000000               0              0            47.0   \n9       156.000000               0              0            47.0   \n10      156.000000               0              0            47.0   \n11      156.000000               0              0            47.0   \n12      156.000000               0              0            47.0   \n13      156.000000               0              0            47.0   \n14      156.000000               0              0            47.0   \n\n   read_spool_sto read_spool_s3      rw_mem  rw_sto  rw_s3  rw_xchg  \\\n0             NaN           NaN  250.000000       0      0     94.0   \n1             NaN           NaN  242.356914       0      0     94.0   \n2             NaN           NaN  250.000000       0      0     94.0   \n3             NaN           NaN  250.000000       0      0     94.0   \n4             NaN           NaN  250.000000       0      0     94.0   \n5             NaN           NaN  242.356914       0      0     94.0   \n6             NaN           NaN  250.000000       0      0     94.0   \n7             NaN           NaN  242.356914       0      0     94.0   \n8             NaN           NaN  250.000000       0      0     94.0   \n9             NaN           NaN  250.000000       0      0     94.0   \n10            NaN           NaN  250.000000       0      0     94.0   \n11            NaN           NaN  250.000000       0      0     94.0   \n12            NaN           NaN  250.000000       0      0     94.0   \n13            NaN           NaN  250.000000       0      0     94.0   \n14            NaN           NaN  250.000000       0      0     94.0   \n\n    stat_read_spool  stat_read_work  time_cpu   time_mem  time_sto  time_s3  \\\n0              47.0           156.0   15450.0  51.500000       0.0      0.0   \n1              47.0           156.0   15450.0  49.925524       0.0      0.0   \n2              47.0           156.0   15450.0  51.500000       0.0      0.0   \n3              47.0           156.0   15450.0  51.500000       0.0      0.0   \n4              47.0           156.0   15450.0  51.500000       0.0      0.0   \n5              47.0           156.0   20600.0  49.925524       0.0      0.0   \n6              47.0           156.0   15450.0  51.500000       0.0      0.0   \n7              47.0           156.0   15450.0  49.925524       0.0      0.0   \n8              47.0           156.0   15450.0  51.500000       0.0      0.0   \n9              47.0           156.0   11587.5  51.500000       0.0      0.0   \n10             47.0           156.0   15450.0  51.500000       0.0      0.0   \n11             47.0           156.0   15450.0  51.500000       0.0      0.0   \n12             47.0           156.0   30900.0  51.500000       0.0      0.0   \n13             47.0           156.0   23175.0  51.500000       0.0      0.0   \n14             47.0           156.0   15450.0  51.500000       0.0      0.0   \n\n    time_xchg  stat_time_sum  stat_time_max stat_time_period  time_load  \n0     154.912   15656.412000        15450.0              NaN        0.0  \n1     154.912   15654.837524        15450.0              NaN        0.0  \n2      38.728   15540.228000        15450.0              NaN        0.0  \n3     154.912   15656.412000        15450.0              NaN        0.0  \n4      38.728   15540.228000        15450.0              NaN        0.0  \n5      38.728   20688.653524        20600.0              NaN        0.0  \n6     154.912   15656.412000        15450.0              NaN        0.0  \n7     154.912   15654.837524        15450.0              NaN        0.0  \n8     154.912   15656.412000        15450.0              NaN        0.0  \n9     154.912   11793.912000        11587.5              NaN        0.0  \n10     38.728   15540.228000        15450.0              NaN        0.0  \n11     38.728   15540.228000        15450.0              NaN        0.0  \n12    154.912   31106.412000        30900.0              NaN        0.0  \n13    154.912   23381.412000        23175.0              NaN        0.0  \n14     38.728   15540.228000        15450.0              NaN        0.0  ",
      "text/html": "<div>\n<style scoped>\n    .dataframe tbody tr th:only-of-type {\n        vertical-align: middle;\n    }\n\n    .dataframe tbody tr th {\n        vertical-align: top;\n    }\n\n    .dataframe thead th {\n        text-align: right;\n    }\n</style>\n<table border=\"1\" class=\"dataframe\">\n  <thead>\n    <tr style=\"text-align: right;\">\n      <th></th>\n      <th>id_name</th>\n      <th>count</th>\n      <th>id</th>\n      <th>cost_usdph</th>\n      <th>read_cache_load</th>\n      <th>read_cache_mem</th>\n      <th>read_cache_sto</th>\n      <th>read_cache_s3</th>\n      <th>read_spool_mem</th>\n      <th>read_spool_sto</th>\n      <th>read_spool_s3</th>\n      <th>rw_mem</th>\n      <th>rw_sto</th>\n      <th>rw_s3</th>\n      <th>rw_xchg</th>\n      <th>stat_read_spool</th>\n      <th>stat_read_work</th>\n      <th>time_cpu</th>\n      <th>time_mem</th>\n      <th>time_sto</th>\n      <th>time_s3</th>\n      <th>time_xchg</th>\n      <th>stat_time_sum</th>\n      <th>stat_time_max</th>\n      <th>stat_time_period</th>\n      <th>time_load</th>\n    </tr>\n  </thead>\n  <tbody>\n    <tr>\n      <th>0</th>\n      <td>m5.24xlarge</td>\n      <td>32</td>\n      <td>m5.24xlarge/32</td>\n      <td>147.456</td>\n      <td>0.0</td>\n      <td>156.000000</td>\n      <td>0</td>\n      <td>0</td>\n      <td>47.0</td>\n      <td>NaN</td>\n      <td>NaN</td>\n      <td>250.000000</td>\n      <td>0</td>\n      <td>0</td>\n      <td>94.0</td>\n      <td>47.0</td>\n      <td>156.0</td>\n      <td>15450.0</td>\n      <td>51.500000</td>\n      <td>0.0</td>\n      <td>0.0</td>\n      <td>154.912</td>\n      <td>15656.412000</td>\n      <td>15450.0</td>\n      <td>NaN</td>\n      <td>0.0</td>\n    </tr>\n    <tr>\n      <th>1</th>\n      <td>c5.24xlarge</td>\n      <td>32</td>\n      <td>c5.24xlarge/32</td>\n      <td>130.560</td>\n      <td>0.0</td>\n      <td>148.356914</td>\n      <td>0</td>\n      <td>0</td>\n      <td>47.0</td>\n      <td>NaN</td>\n      <td>NaN</td>\n      <td>242.356914</td>\n      <td>0</td>\n      <td>0</td>\n      <td>94.0</td>\n      <td>47.0</td>\n      <td>156.0</td>\n      <td>15450.0</td>\n      <td>49.925524</td>\n      <td>0.0</td>\n      <td>0.0</td>\n      <td>154.912</td>\n      <td>15654.837524</td>\n      <td>15450.0</td>\n      <td>NaN</td>\n      <td>0.0</td>\n    </tr>\n    <tr>\n      <th>2</th>\n      <td>r5n.24xlarge</td>\n      <td>32</td>\n      <td>r5n.24xlarge/32</td>\n      <td>228.864</td>\n      <td>0.0</td>\n      <td>156.000000</td>\n      <td>0</td>\n      <td>0</td>\n      <td>47.0</td>\n      <td>NaN</td>\n      <td>NaN</td>\n      <td>250.000000</td>\n      <td>0</td>\n      <td>0</td>\n      <td>94.0</td>\n      <td>47.0</td>\n      <td>156.0</td>\n      <td>15450.0</td>\n      <td>51.500000</td>\n      <td>0.0</td>\n      <td>0.0</td>\n      <td>38.728</td>\n      <td>15540.228000</td>\n      <td>15450.0</td>\n      <td>NaN</td>\n      <td>0.0</td>\n    </tr>\n    <tr>\n      <th>3</th>\n      <td>r5d.24xlarge</td>\n      <td>32</td>\n      <td>r5d.24xlarge/32</td>\n      <td>221.184</td>\n      <td>0.0</td>\n      <td>156.000000</td>\n      <td>0</td>\n      <td>0</td>\n      <td>47.0</td>\n      <td>NaN</td>\n      <td>NaN</td>\n      <td>250.000000</td>\n      <td>0</td>\n      <td>0</td>\n      <td>94.0</td>\n      <td>47.0</td>\n      <td>156.0</td>\n      <td>15450.0</td>\n      <td>51.500000</td>\n      <td>0.0</td>\n      <td>0.0</td>\n      <td>154.912</td>\n      <td>15656.412000</td>\n      <td>15450.0</td>\n      <td>NaN</td>\n      <td>0.0</td>\n    </tr>\n    <tr>\n      <th>4</th>\n      <td>i3en.24xlarge</td>\n      <td>32</td>\n      <td>i3en.24xlarge/32</td>\n      <td>347.136</td>\n      <td>0.0</td>\n      <td>156.000000</td>\n      <td>0</td>\n      <td>0</td>\n      <td>47.0</td>\n      <td>NaN</td>\n      <td>NaN</td>\n      <td>250.000000</td>\n      <td>0</td>\n      <td>0</td>\n      <td>94.0</td>\n      <td>47.0</td>\n      <td>156.0</td>\n      <td>15450.0</td>\n      <td>51.500000</td>\n      <td>0.0</td>\n      <td>0.0</td>\n      <td>38.728</td>\n      <td>15540.228000</td>\n      <td>15450.0</td>\n      <td>NaN</td>\n      <td>0.0</td>\n    </tr>\n    <tr>\n      <th>5</th>\n      <td>c5n.18xlarge</td>\n      <td>32</td>\n      <td>c5n.18xlarge/32</td>\n      <td>124.416</td>\n      <td>0.0</td>\n      <td>148.356914</td>\n      <td>0</td>\n      <td>0</td>\n      <td>47.0</td>\n      <td>NaN</td>\n      <td>NaN</td>\n      <td>242.356914</td>\n      <td>0</td>\n      <td>0</td>\n      <td>94.0</td>\n      <td>47.0</td>\n      <td>156.0</td>\n      <td>20600.0</td>\n      <td>49.925524</td>\n      <td>0.0</td>\n      <td>0.0</td>\n      <td>38.728</td>\n      <td>20688.653524</td>\n      <td>20600.0</td>\n      <td>NaN</td>\n      <td>0.0</td>\n    </tr>\n    <tr>\n      <th>6</th>\n      <td>m5d.24xlarge</td>\n      <td>32</td>\n      <td>m5d.24xlarge/32</td>\n      <td>173.568</td>\n      <td>0.0</td>\n      <td>156.000000</td>\n      <td>0</td>\n      <td>0</td>\n      <td>47.0</td>\n      <td>NaN</td>\n      <td>NaN</td>\n      <td>250.000000</td>\n      <td>0</td>\n      <td>0</td>\n      <td>94.0</td>\n      <td>47.0</td>\n      <td>156.0</td>\n      <td>15450.0</td>\n      <td>51.500000</td>\n      <td>0.0</td>\n      <td>0.0</td>\n      <td>154.912</td>\n      <td>15656.412000</td>\n      <td>15450.0</td>\n      <td>NaN</td>\n      <td>0.0</td>\n    </tr>\n    <tr>\n      <th>7</th>\n      <td>c5d.24xlarge</td>\n      <td>32</td>\n      <td>c5d.24xlarge/32</td>\n      <td>147.456</td>\n      <td>0.0</td>\n      <td>148.356914</td>\n      <td>0</td>\n      <td>0</td>\n      <td>47.0</td>\n      <td>NaN</td>\n      <td>NaN</td>\n      <td>242.356914</td>\n      <td>0</td>\n      <td>0</td>\n      <td>94.0</td>\n      <td>47.0</td>\n      <td>156.0</td>\n      <td>15450.0</td>\n      <td>49.925524</td>\n      <td>0.0</td>\n      <td>0.0</td>\n      <td>154.912</td>\n      <td>15654.837524</td>\n      <td>15450.0</td>\n      <td>NaN</td>\n      <td>0.0</td>\n    </tr>\n    <tr>\n      <th>8</th>\n      <td>r5.24xlarge</td>\n      <td>32</td>\n      <td>r5.24xlarge/32</td>\n      <td>193.536</td>\n      <td>0.0</td>\n      <td>156.000000</td>\n      <td>0</td>\n      <td>0</td>\n      <td>47.0</td>\n      <td>NaN</td>\n      <td>NaN</td>\n      <td>250.000000</td>\n      <td>0</td>\n      <td>0</td>\n      <td>94.0</td>\n      <td>47.0</td>\n      <td>156.0</td>\n      <td>15450.0</td>\n      <td>51.500000</td>\n      <td>0.0</td>\n      <td>0.0</td>\n      <td>154.912</td>\n      <td>15656.412000</td>\n      <td>15450.0</td>\n      <td>NaN</td>\n      <td>0.0</td>\n    </tr>\n    <tr>\n      <th>9</th>\n      <td>x1e.32xlarge</td>\n      <td>32</td>\n      <td>x1e.32xlarge/32</td>\n      <td>854.016</td>\n      <td>0.0</td>\n      <td>156.000000</td>\n      <td>0</td>\n      <td>0</td>\n      <td>47.0</td>\n      <td>NaN</td>\n      <td>NaN</td>\n      <td>250.000000</td>\n      <td>0</td>\n      <td>0</td>\n      <td>94.0</td>\n      <td>47.0</td>\n      <td>156.0</td>\n      <td>11587.5</td>\n      <td>51.500000</td>\n      <td>0.0</td>\n      <td>0.0</td>\n      <td>154.912</td>\n      <td>11793.912000</td>\n      <td>11587.5</td>\n      <td>NaN</td>\n      <td>0.0</td>\n    </tr>\n    <tr>\n      <th>10</th>\n      <td>m5dn.24xlarge</td>\n      <td>32</td>\n      <td>m5dn.24xlarge/32</td>\n      <td>208.896</td>\n      <td>0.0</td>\n      <td>156.000000</td>\n      <td>0</td>\n      <td>0</td>\n      <td>47.0</td>\n      <td>NaN</td>\n      <td>NaN</td>\n      <td>250.000000</td>\n      <td>0</td>\n      <td>0</td>\n      <td>94.0</td>\n      <td>47.0</td>\n      <td>156.0</td>\n      <td>15450.0</td>\n      <td>51.500000</td>\n      <td>0.0</td>\n      <td>0.0</td>\n      <td>38.728</td>\n      <td>15540.228000</td>\n      <td>15450.0</td>\n      <td>NaN</td>\n      <td>0.0</td>\n    </tr>\n    <tr>\n      <th>11</th>\n      <td>m5n.24xlarge</td>\n      <td>32</td>\n      <td>m5n.24xlarge/32</td>\n      <td>182.784</td>\n      <td>0.0</td>\n      <td>156.000000</td>\n      <td>0</td>\n      <td>0</td>\n      <td>47.0</td>\n      <td>NaN</td>\n      <td>NaN</td>\n      <td>250.000000</td>\n      <td>0</td>\n      <td>0</td>\n      <td>94.0</td>\n      <td>47.0</td>\n      <td>156.0</td>\n      <td>15450.0</td>\n      <td>51.500000</td>\n      <td>0.0</td>\n      <td>0.0</td>\n      <td>38.728</td>\n      <td>15540.228000</td>\n      <td>15450.0</td>\n      <td>NaN</td>\n      <td>0.0</td>\n    </tr>\n    <tr>\n      <th>12</th>\n      <td>z1d.12xlarge</td>\n      <td>32</td>\n      <td>z1d.12xlarge/32</td>\n      <td>142.848</td>\n      <td>0.0</td>\n      <td>156.000000</td>\n      <td>0</td>\n      <td>0</td>\n      <td>47.0</td>\n      <td>NaN</td>\n      <td>NaN</td>\n      <td>250.000000</td>\n      <td>0</td>\n      <td>0</td>\n      <td>94.0</td>\n      <td>47.0</td>\n      <td>156.0</td>\n      <td>30900.0</td>\n      <td>51.500000</td>\n      <td>0.0</td>\n      <td>0.0</td>\n      <td>154.912</td>\n      <td>31106.412000</td>\n      <td>30900.0</td>\n      <td>NaN</td>\n      <td>0.0</td>\n    </tr>\n    <tr>\n      <th>13</th>\n      <td>i3.16xlarge</td>\n      <td>32</td>\n      <td>i3.16xlarge/32</td>\n      <td>159.744</td>\n      <td>0.0</td>\n      <td>156.000000</td>\n      <td>0</td>\n      <td>0</td>\n      <td>47.0</td>\n      <td>NaN</td>\n      <td>NaN</td>\n      <td>250.000000</td>\n      <td>0</td>\n      <td>0</td>\n      <td>94.0</td>\n      <td>47.0</td>\n      <td>156.0</td>\n      <td>23175.0</td>\n      <td>51.500000</td>\n      <td>0.0</td>\n      <td>0.0</td>\n      <td>154.912</td>\n      <td>23381.412000</td>\n      <td>23175.0</td>\n      <td>NaN</td>\n      <td>0.0</td>\n    </tr>\n    <tr>\n      <th>14</th>\n      <td>r5dn.24xlarge</td>\n      <td>32</td>\n      <td>r5dn.24xlarge/32</td>\n      <td>256.512</td>\n      <td>0.0</td>\n      <td>156.000000</td>\n      <td>0</td>\n      <td>0</td>\n      <td>47.0</td>\n      <td>NaN</td>\n      <td>NaN</td>\n      <td>250.000000</td>\n      <td>0</td>\n      <td>0</td>\n      <td>94.0</td>\n      <td>47.0</td>\n      <td>156.0</td>\n      <td>15450.0</td>\n      <td>51.500000</td>\n      <td>0.0</td>\n      <td>0.0</td>\n      <td>38.728</td>\n      <td>15540.228000</td>\n      <td>15450.0</td>\n      <td>NaN</td>\n      <td>0.0</td>\n    </tr>\n  </tbody>\n</table>\n</div>"
     },
     "execution_count": 9,
     "metadata": {},
     "output_type": "execute_result"
    }
   ],
   "source": [
    "result[31]"
   ],
   "metadata": {
    "collapsed": false,
    "ExecuteTime": {
     "end_time": "2023-07-23T14:40:57.970393292Z",
     "start_time": "2023-07-23T14:40:57.911943423Z"
    }
   }
  },
  {
   "cell_type": "code",
   "execution_count": 20,
   "outputs": [
    {
     "data": {
      "text/plain": "22500"
     },
     "execution_count": 20,
     "metadata": {},
     "output_type": "execute_result"
    }
   ],
   "source": [
    "spooling_distr = [\n",
    "    0 if round(SPOOLING_READ_SUM/n) < 1 else distr_maker(shape=SPOOLING_SKEW, size=round(SPOOLING_READ_SUM / n))\n",
    "    for n in range(1, MAX_INSTANCE_COUNT + 1)\n",
    "]\n",
    "len(spooling_distr[0]) * len(inst)"
   ],
   "metadata": {
    "collapsed": false,
    "ExecuteTime": {
     "end_time": "2023-07-23T14:48:22.186652599Z",
     "start_time": "2023-07-23T14:48:22.177057585Z"
    }
   }
  },
  {
   "cell_type": "code",
   "execution_count": 28,
   "outputs": [
    {
     "data": {
      "text/plain": "group      index  data_mem  data_s3  data_sto\n0      distr_val    1367.0    133.0       0.0\n1      distr_val    1300.0    200.0       0.0\n2      distr_val    1421.0     79.0       0.0\n3      distr_val    1421.0      0.0      79.0\n4      distr_val    1421.0      0.0      79.0\n5      distr_val    1300.0    200.0       0.0\n6      distr_val    1367.0      0.0     133.0\n7      distr_val    1300.0      0.0     200.0\n8      distr_val    1421.0     79.0       0.0\n9      distr_val    1500.0      0.0       0.0\n10     distr_val    1367.0    133.0       0.0\n11     distr_val    1367.0    133.0       0.0\n12     distr_val    1367.0     16.0     118.0\n13     distr_val    1387.0      0.0     113.0\n14     distr_val    1421.0     79.0       0.0",
      "text/html": "<div>\n<style scoped>\n    .dataframe tbody tr th:only-of-type {\n        vertical-align: middle;\n    }\n\n    .dataframe tbody tr th {\n        vertical-align: top;\n    }\n\n    .dataframe thead th {\n        text-align: right;\n    }\n</style>\n<table border=\"1\" class=\"dataframe\">\n  <thead>\n    <tr style=\"text-align: right;\">\n      <th>group</th>\n      <th>index</th>\n      <th>data_mem</th>\n      <th>data_s3</th>\n      <th>data_sto</th>\n    </tr>\n  </thead>\n  <tbody>\n    <tr>\n      <th>0</th>\n      <td>distr_val</td>\n      <td>1367.0</td>\n      <td>133.0</td>\n      <td>0.0</td>\n    </tr>\n    <tr>\n      <th>1</th>\n      <td>distr_val</td>\n      <td>1300.0</td>\n      <td>200.0</td>\n      <td>0.0</td>\n    </tr>\n    <tr>\n      <th>2</th>\n      <td>distr_val</td>\n      <td>1421.0</td>\n      <td>79.0</td>\n      <td>0.0</td>\n    </tr>\n    <tr>\n      <th>3</th>\n      <td>distr_val</td>\n      <td>1421.0</td>\n      <td>0.0</td>\n      <td>79.0</td>\n    </tr>\n    <tr>\n      <th>4</th>\n      <td>distr_val</td>\n      <td>1421.0</td>\n      <td>0.0</td>\n      <td>79.0</td>\n    </tr>\n    <tr>\n      <th>5</th>\n      <td>distr_val</td>\n      <td>1300.0</td>\n      <td>200.0</td>\n      <td>0.0</td>\n    </tr>\n    <tr>\n      <th>6</th>\n      <td>distr_val</td>\n      <td>1367.0</td>\n      <td>0.0</td>\n      <td>133.0</td>\n    </tr>\n    <tr>\n      <th>7</th>\n      <td>distr_val</td>\n      <td>1300.0</td>\n      <td>0.0</td>\n      <td>200.0</td>\n    </tr>\n    <tr>\n      <th>8</th>\n      <td>distr_val</td>\n      <td>1421.0</td>\n      <td>79.0</td>\n      <td>0.0</td>\n    </tr>\n    <tr>\n      <th>9</th>\n      <td>distr_val</td>\n      <td>1500.0</td>\n      <td>0.0</td>\n      <td>0.0</td>\n    </tr>\n    <tr>\n      <th>10</th>\n      <td>distr_val</td>\n      <td>1367.0</td>\n      <td>133.0</td>\n      <td>0.0</td>\n    </tr>\n    <tr>\n      <th>11</th>\n      <td>distr_val</td>\n      <td>1367.0</td>\n      <td>133.0</td>\n      <td>0.0</td>\n    </tr>\n    <tr>\n      <th>12</th>\n      <td>distr_val</td>\n      <td>1367.0</td>\n      <td>16.0</td>\n      <td>118.0</td>\n    </tr>\n    <tr>\n      <th>13</th>\n      <td>distr_val</td>\n      <td>1387.0</td>\n      <td>0.0</td>\n      <td>113.0</td>\n    </tr>\n    <tr>\n      <th>14</th>\n      <td>distr_val</td>\n      <td>1421.0</td>\n      <td>79.0</td>\n      <td>0.0</td>\n    </tr>\n  </tbody>\n</table>\n</div>"
     },
     "execution_count": 28,
     "metadata": {},
     "output_type": "execute_result"
    }
   ],
   "source": [
    "bins_spooling = {\n",
    "    'data_mem': pd.DataFrame(data={'size': inst['calc_mem_spooling'].round(decimals=0), 'prio': inst['calc_mem_speed']}),\n",
    "    'data_sto': pd.DataFrame(data={'size': inst['calc_sto_spooling'].round(decimals=0), 'prio': inst['calc_sto_speed']}),\n",
    "    'data_s3': pd.DataFrame(data={'size': [len(spooling_distr[0])] * len(inst), 'prio': inst['calc_net_speed']})\n",
    "}\n",
    "\n",
    "spool_read_distribution = model_distr_pack(bins_spooling, spooling_distr[0])\n",
    "\n",
    "spool_read_distribution.round()"
   ],
   "metadata": {
    "collapsed": false,
    "ExecuteTime": {
     "end_time": "2023-07-23T15:36:39.850530139Z",
     "start_time": "2023-07-23T15:36:39.819069435Z"
    }
   }
  }
 ],
 "metadata": {
  "kernelspec": {
   "display_name": "Python 3",
   "language": "python",
   "name": "python3"
  },
  "language_info": {
   "codemirror_mode": {
    "name": "ipython",
    "version": 2
   },
   "file_extension": ".py",
   "mimetype": "text/x-python",
   "name": "python",
   "nbconvert_exporter": "python",
   "pygments_lexer": "ipython2",
   "version": "2.7.6"
  }
 },
 "nbformat": 4,
 "nbformat_minor": 0
}
